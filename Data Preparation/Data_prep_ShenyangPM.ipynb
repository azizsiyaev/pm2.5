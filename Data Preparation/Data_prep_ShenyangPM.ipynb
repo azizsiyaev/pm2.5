{
 "cells": [
  {
   "cell_type": "markdown",
   "metadata": {},
   "source": [
    "## ShenyangPM20100101_20151231.csv ##"
   ]
  },
  {
   "cell_type": "code",
   "execution_count": 1,
   "metadata": {},
   "outputs": [],
   "source": [
    "import os\n",
    "import pandas as pd\n",
    "import math\n",
    "import matplotlib.pyplot as plt\n",
    "%matplotlib inline"
   ]
  },
  {
   "cell_type": "code",
   "execution_count": 2,
   "metadata": {},
   "outputs": [],
   "source": [
    "def load_data_from_csv(data_path):\n",
    "    return pd.read_csv(data_path)"
   ]
  },
  {
   "cell_type": "code",
   "execution_count": 32,
   "metadata": {},
   "outputs": [],
   "source": [
    "MAIN_DIR_PATH = '../FiveCitiePMData'\n",
    "PREP_MAIN_DIR_PATH = '../Prep_FiveCitiePMData'\n",
    "cities_data_path_list = os.listdir(MAIN_DIR_PATH)"
   ]
  },
  {
   "cell_type": "code",
   "execution_count": 4,
   "metadata": {},
   "outputs": [
    {
     "name": "stdout",
     "output_type": "stream",
     "text": [
      "BeijingPM20100101_20151231.csv\n",
      "ChengduPM20100101_20151231.csv\n",
      "GuangzhouPM20100101_20151231.csv\n",
      "ShanghaiPM20100101_20151231.csv\n",
      "ShenyangPM20100101_20151231.csv\n"
     ]
    }
   ],
   "source": [
    "print(*cities_data_path_list, sep='\\n')"
   ]
  },
  {
   "cell_type": "code",
   "execution_count": 5,
   "metadata": {},
   "outputs": [
    {
     "name": "stdout",
     "output_type": "stream",
     "text": [
      "../FiveCitiePMData\\ShenyangPM20100101_20151231.csv\n"
     ]
    }
   ],
   "source": [
    "sample_data_path = os.path.join(MAIN_DIR_PATH, cities_data_path_list[4])\n",
    "print(sample_data_path)\n",
    "data = load_data_from_csv(sample_data_path)"
   ]
  },
  {
   "cell_type": "markdown",
   "metadata": {},
   "source": [
    "### 1. Data Analysis"
   ]
  },
  {
   "cell_type": "markdown",
   "metadata": {},
   "source": [
    "#### 1.1 Look at distribution and find outliers"
   ]
  },
  {
   "cell_type": "markdown",
   "metadata": {},
   "source": [
    "So, I am going to start with analysis of each feature in order to understand whether we have an outliers here"
   ]
  },
  {
   "cell_type": "code",
   "execution_count": 11,
   "metadata": {},
   "outputs": [
    {
     "name": "stdout",
     "output_type": "stream",
     "text": [
      "1 No\n",
      "2 year\n",
      "3 month\n",
      "4 day\n",
      "5 hour\n",
      "6 season\n",
      "7 PM_Taiyuanjie\n",
      "8 PM_US Post\n",
      "9 PM_Xiaoheyan\n",
      "10 DEWP\n",
      "11 HUMI\n",
      "12 PRES\n",
      "13 TEMP\n",
      "14 cbwd\n",
      "15 Iws\n",
      "16 precipitation\n",
      "17 Iprec\n"
     ]
    }
   ],
   "source": [
    "# Here are the features we have\n",
    "for idx, col in enumerate(data.columns):\n",
    "    print(idx + 1, col)"
   ]
  },
  {
   "cell_type": "markdown",
   "metadata": {},
   "source": [
    "**No**"
   ]
  },
  {
   "cell_type": "code",
   "execution_count": 12,
   "metadata": {},
   "outputs": [
    {
     "data": {
      "text/plain": [
       "count    52584.000000\n",
       "mean     26292.500000\n",
       "std      15179.837614\n",
       "min          1.000000\n",
       "25%      13146.750000\n",
       "50%      26292.500000\n",
       "75%      39438.250000\n",
       "max      52584.000000\n",
       "Name: No, dtype: float64"
      ]
     },
     "execution_count": 12,
     "metadata": {},
     "output_type": "execute_result"
    }
   ],
   "source": [
    "data['No'].describe()"
   ]
  },
  {
   "cell_type": "code",
   "execution_count": 13,
   "metadata": {},
   "outputs": [
    {
     "data": {
      "image/png": "[encoded data removed]",
      "text/plain": [
       "<Figure size 432x288 with 1 Axes>"
      ]
     },
     "metadata": {
      "needs_background": "light"
     },
     "output_type": "display_data"
    }
   ],
   "source": [
    "data['No'].hist()\n",
    "plt.show()"
   ]
  },
  {
   "cell_type": "markdown",
   "metadata": {},
   "source": [
    "Conclusion: OK"
   ]
  },
  {
   "cell_type": "markdown",
   "metadata": {},
   "source": [
    "**year**"
   ]
  },
  {
   "cell_type": "code",
   "execution_count": 14,
   "metadata": {},
   "outputs": [
    {
     "data": {
      "text/plain": [
       "count    52584.000000\n",
       "mean      2012.499772\n",
       "std          1.707485\n",
       "min       2010.000000\n",
       "25%       2011.000000\n",
       "50%       2012.000000\n",
       "75%       2014.000000\n",
       "max       2015.000000\n",
       "Name: year, dtype: float64"
      ]
     },
     "execution_count": 14,
     "metadata": {},
     "output_type": "execute_result"
    }
   ],
   "source": [
    "data['year'].describe()"
   ]
  },
  {
   "cell_type": "code",
   "execution_count": 15,
   "metadata": {},
   "outputs": [
    {
     "data": {
      "image/png": "[encoded data removed]",
      "text/plain": [
       "<Figure size 432x288 with 1 Axes>"
      ]
     },
     "metadata": {
      "needs_background": "light"
     },
     "output_type": "display_data"
    }
   ],
   "source": [
    "data['year'].hist()\n",
    "plt.show()"
   ]
  },
  {
   "cell_type": "markdown",
   "metadata": {},
   "source": [
    "Conclusion: OK"
   ]
  },
  {
   "cell_type": "markdown",
   "metadata": {},
   "source": [
    "**month**"
   ]
  },
  {
   "cell_type": "code",
   "execution_count": 16,
   "metadata": {},
   "outputs": [
    {
     "data": {
      "text/plain": [
       "count    52584.000000\n",
       "mean         6.523962\n",
       "std          3.448452\n",
       "min          1.000000\n",
       "25%          4.000000\n",
       "50%          7.000000\n",
       "75%         10.000000\n",
       "max         12.000000\n",
       "Name: month, dtype: float64"
      ]
     },
     "execution_count": 16,
     "metadata": {},
     "output_type": "execute_result"
    }
   ],
   "source": [
    "data['month'].describe()"
   ]
  },
  {
   "cell_type": "code",
   "execution_count": 17,
   "metadata": {},
   "outputs": [
    {
     "data": {
      "image/png": "[encoded data removed]",
      "text/plain": [
       "<Figure size 432x288 with 1 Axes>"
      ]
     },
     "metadata": {
      "needs_background": "light"
     },
     "output_type": "display_data"
    }
   ],
   "source": [
    "data['month'].hist()\n",
    "plt.show()"
   ]
  },
  {
   "cell_type": "markdown",
   "metadata": {},
   "source": [
    "Conclusion: OK"
   ]
  },
  {
   "cell_type": "markdown",
   "metadata": {},
   "source": [
    "**day**"
   ]
  },
  {
   "cell_type": "code",
   "execution_count": 18,
   "metadata": {},
   "outputs": [
    {
     "data": {
      "text/plain": [
       "count    52584.000000\n",
       "mean        15.726609\n",
       "std          8.798896\n",
       "min          1.000000\n",
       "25%          8.000000\n",
       "50%         16.000000\n",
       "75%         23.000000\n",
       "max         31.000000\n",
       "Name: day, dtype: float64"
      ]
     },
     "execution_count": 18,
     "metadata": {},
     "output_type": "execute_result"
    }
   ],
   "source": [
    "data['day'].describe()"
   ]
  },
  {
   "cell_type": "code",
   "execution_count": 19,
   "metadata": {},
   "outputs": [
    {
     "data": {
      "image/png": "[encoded data removed]",
      "text/plain": [
       "<Figure size 432x288 with 1 Axes>"
      ]
     },
     "metadata": {
      "needs_background": "light"
     },
     "output_type": "display_data"
    }
   ],
   "source": [
    "data['day'].hist()\n",
    "plt.show()"
   ]
  },
  {
   "cell_type": "markdown",
   "metadata": {},
   "source": [
    "Conclusion: OK"
   ]
  },
  {
   "cell_type": "markdown",
   "metadata": {},
   "source": [
    "**hour**"
   ]
  },
  {
   "cell_type": "code",
   "execution_count": 20,
   "metadata": {},
   "outputs": [
    {
     "data": {
      "text/plain": [
       "count    52584.000000\n",
       "mean        11.500000\n",
       "std          6.922252\n",
       "min          0.000000\n",
       "25%          5.750000\n",
       "50%         11.500000\n",
       "75%         17.250000\n",
       "max         23.000000\n",
       "Name: hour, dtype: float64"
      ]
     },
     "execution_count": 20,
     "metadata": {},
     "output_type": "execute_result"
    }
   ],
   "source": [
    "data['hour'].describe()"
   ]
  },
  {
   "cell_type": "code",
   "execution_count": 21,
   "metadata": {},
   "outputs": [
    {
     "data": {
      "image/png": "[encoded data removed]",
      "text/plain": [
       "<Figure size 432x288 with 1 Axes>"
      ]
     },
     "metadata": {
      "needs_background": "light"
     },
     "output_type": "display_data"
    }
   ],
   "source": [
    "data['hour'].hist()\n",
    "plt.show()"
   ]
  },
  {
   "cell_type": "markdown",
   "metadata": {},
   "source": [
    "Conclusion: OK"
   ]
  },
  {
   "cell_type": "markdown",
   "metadata": {},
   "source": [
    "**season**"
   ]
  },
  {
   "cell_type": "code",
   "execution_count": 22,
   "metadata": {},
   "outputs": [
    {
     "data": {
      "text/plain": [
       "count    52584.000000\n",
       "mean         2.491100\n",
       "std          1.116988\n",
       "min          1.000000\n",
       "25%          1.000000\n",
       "50%          2.000000\n",
       "75%          3.000000\n",
       "max          4.000000\n",
       "Name: season, dtype: float64"
      ]
     },
     "execution_count": 22,
     "metadata": {},
     "output_type": "execute_result"
    }
   ],
   "source": [
    "data['season'].describe()"
   ]
  },
  {
   "cell_type": "code",
   "execution_count": 23,
   "metadata": {},
   "outputs": [
    {
     "data": {
      "image/png": "[encoded data removed]",
      "text/plain": [
       "<Figure size 432x288 with 1 Axes>"
      ]
     },
     "metadata": {
      "needs_background": "light"
     },
     "output_type": "display_data"
    }
   ],
   "source": [
    "data['season'].hist()\n",
    "plt.show()"
   ]
  },
  {
   "cell_type": "markdown",
   "metadata": {},
   "source": [
    "Conclusion: OK"
   ]
  },
  {
   "cell_type": "markdown",
   "metadata": {},
   "source": [
    "**PM_Taiyuanjie**"
   ]
  },
  {
   "cell_type": "code",
   "execution_count": 24,
   "metadata": {},
   "outputs": [
    {
     "data": {
      "text/plain": [
       "count    24388.000000\n",
       "mean        81.189683\n",
       "std         80.112376\n",
       "min          1.000000\n",
       "25%         32.000000\n",
       "50%         59.000000\n",
       "75%        103.000000\n",
       "max       1528.000000\n",
       "Name: PM_Taiyuanjie, dtype: float64"
      ]
     },
     "execution_count": 24,
     "metadata": {},
     "output_type": "execute_result"
    }
   ],
   "source": [
    "data['PM_Taiyuanjie'].describe()"
   ]
  },
  {
   "cell_type": "code",
   "execution_count": 25,
   "metadata": {},
   "outputs": [
    {
     "data": {
      "image/png": "[encoded data removed]",
      "text/plain": [
       "<Figure size 432x288 with 1 Axes>"
      ]
     },
     "metadata": {
      "needs_background": "light"
     },
     "output_type": "display_data"
    }
   ],
   "source": [
    "data['PM_Taiyuanjie'].hist()\n",
    "plt.show()"
   ]
  },
  {
   "cell_type": "markdown",
   "metadata": {},
   "source": [
    "Unfortunatelly, I could not find what was the greatest amount registered in the world in order to have understanding of outliers, so I will consider it as Ok\n",
    "Conclusion: OK"
   ]
  },
  {
   "cell_type": "markdown",
   "metadata": {},
   "source": [
    "**PM_US Post**"
   ]
  },
  {
   "cell_type": "code",
   "execution_count": 26,
   "metadata": {},
   "outputs": [
    {
     "data": {
      "text/plain": [
       "count    21680.00000\n",
       "mean        75.83750\n",
       "std         68.99593\n",
       "min          1.00000\n",
       "25%         31.00000\n",
       "50%         57.00000\n",
       "75%         97.00000\n",
       "max        932.00000\n",
       "Name: PM_US Post, dtype: float64"
      ]
     },
     "execution_count": 26,
     "metadata": {},
     "output_type": "execute_result"
    }
   ],
   "source": [
    "data['PM_US Post'].describe()"
   ]
  },
  {
   "cell_type": "code",
   "execution_count": 27,
   "metadata": {},
   "outputs": [
    {
     "data": {
      "image/png": "[encoded data removed]",
      "text/plain": [
       "<Figure size 432x288 with 1 Axes>"
      ]
     },
     "metadata": {
      "needs_background": "light"
     },
     "output_type": "display_data"
    }
   ],
   "source": [
    "data['PM_US Post'].hist()\n",
    "plt.show()"
   ]
  },
  {
   "cell_type": "markdown",
   "metadata": {},
   "source": [
    "Conclusion: OK"
   ]
  },
  {
   "cell_type": "markdown",
   "metadata": {},
   "source": [
    "**PM_Xiaoheyan**"
   ]
  },
  {
   "cell_type": "code",
   "execution_count": 28,
   "metadata": {},
   "outputs": [
    {
     "data": {
      "text/plain": [
       "count    24627.000000\n",
       "mean        75.240468\n",
       "std         78.404401\n",
       "min          2.000000\n",
       "25%         28.000000\n",
       "50%         51.000000\n",
       "75%         93.000000\n",
       "max       1361.000000\n",
       "Name: PM_Xiaoheyan, dtype: float64"
      ]
     },
     "execution_count": 28,
     "metadata": {},
     "output_type": "execute_result"
    }
   ],
   "source": [
    "data['PM_Xiaoheyan'].describe()"
   ]
  },
  {
   "cell_type": "code",
   "execution_count": 29,
   "metadata": {},
   "outputs": [
    {
     "data": {
      "image/png": "[encoded data removed]",
      "text/plain": [
       "<Figure size 432x288 with 1 Axes>"
      ]
     },
     "metadata": {
      "needs_background": "light"
     },
     "output_type": "display_data"
    }
   ],
   "source": [
    "data['PM_Xiaoheyan'].hist()\n",
    "plt.show()"
   ]
  },
  {
   "cell_type": "markdown",
   "metadata": {},
   "source": [
    "Conclusion: OK"
   ]
  },
  {
   "cell_type": "markdown",
   "metadata": {},
   "source": [
    "**DEWP** Dew Point (Celsius Degree) "
   ]
  },
  {
   "cell_type": "code",
   "execution_count": 30,
   "metadata": {},
   "outputs": [
    {
     "data": {
      "text/plain": [
       "count    51892.000000\n",
       "mean         0.850304\n",
       "std         14.261483\n",
       "min        -97.000000\n",
       "25%        -11.000000\n",
       "50%          1.000000\n",
       "75%         14.000000\n",
       "max         28.000000\n",
       "Name: DEWP, dtype: float64"
      ]
     },
     "execution_count": 30,
     "metadata": {},
     "output_type": "execute_result"
    }
   ],
   "source": [
    "data['DEWP'].describe()"
   ]
  },
  {
   "cell_type": "code",
   "execution_count": 31,
   "metadata": {},
   "outputs": [
    {
     "data": {
      "image/png": "[encoded data removed]",
      "text/plain": [
       "<Figure size 432x288 with 1 Axes>"
      ]
     },
     "metadata": {
      "needs_background": "light"
     },
     "output_type": "display_data"
    }
   ],
   "source": [
    "data['DEWP'].hist()\n",
    "plt.show()"
   ]
  },
  {
   "cell_type": "markdown",
   "metadata": {},
   "source": [
    "Conclusion: **Outlier Here**"
   ]
  },
  {
   "cell_type": "markdown",
   "metadata": {},
   "source": [
    "**HUMI** Humidity (%) "
   ]
  },
  {
   "cell_type": "code",
   "execution_count": 32,
   "metadata": {},
   "outputs": [
    {
     "data": {
      "text/plain": [
       "count    51904.000000\n",
       "mean        63.006561\n",
       "std         21.883355\n",
       "min          0.000000\n",
       "25%         46.260000\n",
       "50%         64.720000\n",
       "75%         82.010000\n",
       "max        100.000000\n",
       "Name: HUMI, dtype: float64"
      ]
     },
     "execution_count": 32,
     "metadata": {},
     "output_type": "execute_result"
    }
   ],
   "source": [
    "data['HUMI'].describe()"
   ]
  },
  {
   "cell_type": "code",
   "execution_count": 33,
   "metadata": {},
   "outputs": [
    {
     "data": {
      "image/png": "[encoded data removed]",
      "text/plain": [
       "<Figure size 432x288 with 1 Axes>"
      ]
     },
     "metadata": {
      "needs_background": "light"
     },
     "output_type": "display_data"
    }
   ],
   "source": [
    "data['HUMI'].hist()\n",
    "plt.show()"
   ]
  },
  {
   "cell_type": "markdown",
   "metadata": {},
   "source": [
    "Conclusion: OK"
   ]
  },
  {
   "cell_type": "markdown",
   "metadata": {},
   "source": [
    "**PRES** Pressure (hPa) "
   ]
  },
  {
   "cell_type": "code",
   "execution_count": 34,
   "metadata": {},
   "outputs": [
    {
     "data": {
      "text/plain": [
       "count    51892.000000\n",
       "mean      1016.005492\n",
       "std          9.724308\n",
       "min        988.000000\n",
       "25%       1008.000000\n",
       "50%       1016.000000\n",
       "75%       1024.000000\n",
       "max       1043.000000\n",
       "Name: PRES, dtype: float64"
      ]
     },
     "execution_count": 34,
     "metadata": {},
     "output_type": "execute_result"
    }
   ],
   "source": [
    "data['PRES'].describe()"
   ]
  },
  {
   "cell_type": "code",
   "execution_count": 35,
   "metadata": {},
   "outputs": [
    {
     "data": {
      "image/png": "[encoded data removed]",
      "text/plain": [
       "<Figure size 432x288 with 1 Axes>"
      ]
     },
     "metadata": {
      "needs_background": "light"
     },
     "output_type": "display_data"
    }
   ],
   "source": [
    "data['PRES'].hist()\n",
    "plt.show()"
   ]
  },
  {
   "cell_type": "markdown",
   "metadata": {},
   "source": [
    "Conclusion: OK"
   ]
  },
  {
   "cell_type": "markdown",
   "metadata": {},
   "source": [
    "**TEMP** Temperature (Celsius Degree) "
   ]
  },
  {
   "cell_type": "code",
   "execution_count": 36,
   "metadata": {},
   "outputs": [
    {
     "data": {
      "text/plain": [
       "count    51892.000000\n",
       "mean         8.460495\n",
       "std         13.948303\n",
       "min        -28.000000\n",
       "25%         -3.000000\n",
       "50%         10.000000\n",
       "75%         21.000000\n",
       "max         35.000000\n",
       "Name: TEMP, dtype: float64"
      ]
     },
     "execution_count": 36,
     "metadata": {},
     "output_type": "execute_result"
    }
   ],
   "source": [
    "data['TEMP'].describe()"
   ]
  },
  {
   "cell_type": "code",
   "execution_count": 37,
   "metadata": {},
   "outputs": [
    {
     "data": {
      "image/png": "[encoded data removed]",
      "text/plain": [
       "<Figure size 432x288 with 1 Axes>"
      ]
     },
     "metadata": {
      "needs_background": "light"
     },
     "output_type": "display_data"
    }
   ],
   "source": [
    "data['TEMP'].hist()\n",
    "plt.show()"
   ]
  },
  {
   "cell_type": "markdown",
   "metadata": {},
   "source": [
    "Conclusion: OK"
   ]
  },
  {
   "cell_type": "markdown",
   "metadata": {},
   "source": [
    "**cbwd** Combined wind direction "
   ]
  },
  {
   "cell_type": "code",
   "execution_count": 38,
   "metadata": {},
   "outputs": [
    {
     "data": {
      "text/plain": [
       "count     51892\n",
       "unique        5\n",
       "top          SW\n",
       "freq      18718\n",
       "Name: cbwd, dtype: object"
      ]
     },
     "execution_count": 38,
     "metadata": {},
     "output_type": "execute_result"
    }
   ],
   "source": [
    "data['cbwd'].describe()"
   ]
  },
  {
   "cell_type": "code",
   "execution_count": 39,
   "metadata": {},
   "outputs": [
    {
     "data": {
      "text/plain": [
       "SW    18718\n",
       "SE    12652\n",
       "NW     8611\n",
       "NE     8223\n",
       "cv     3688\n",
       "Name: cbwd, dtype: int64"
      ]
     },
     "execution_count": 39,
     "metadata": {},
     "output_type": "execute_result"
    }
   ],
   "source": [
    "data['cbwd'].value_counts()"
   ]
  },
  {
   "cell_type": "markdown",
   "metadata": {},
   "source": [
    "Conclusion: OK"
   ]
  },
  {
   "cell_type": "markdown",
   "metadata": {},
   "source": [
    "**Iws**  Cumulated wind speed (m/s)"
   ]
  },
  {
   "cell_type": "code",
   "execution_count": 40,
   "metadata": {},
   "outputs": [
    {
     "data": {
      "text/plain": [
       "count    51892.000000\n",
       "mean        19.816487\n",
       "std         32.135270\n",
       "min          0.000000\n",
       "25%          3.000000\n",
       "50%          8.000000\n",
       "75%         23.000000\n",
       "max        465.000000\n",
       "Name: Iws, dtype: float64"
      ]
     },
     "execution_count": 40,
     "metadata": {},
     "output_type": "execute_result"
    }
   ],
   "source": [
    "data['Iws'].describe()"
   ]
  },
  {
   "cell_type": "markdown",
   "metadata": {},
   "source": [
    "Conclusion: OK"
   ]
  },
  {
   "cell_type": "markdown",
   "metadata": {},
   "source": [
    "**precipitation** hourly precipitation (mm) "
   ]
  },
  {
   "cell_type": "code",
   "execution_count": 41,
   "metadata": {},
   "outputs": [
    {
     "data": {
      "text/plain": [
       "count    39821.000000\n",
       "mean         0.083895\n",
       "std          0.717721\n",
       "min          0.000000\n",
       "25%          0.000000\n",
       "50%          0.000000\n",
       "75%          0.000000\n",
       "max         33.100000\n",
       "Name: precipitation, dtype: float64"
      ]
     },
     "execution_count": 41,
     "metadata": {},
     "output_type": "execute_result"
    }
   ],
   "source": [
    "data['precipitation'].describe()"
   ]
  },
  {
   "cell_type": "code",
   "execution_count": 42,
   "metadata": {},
   "outputs": [
    {
     "data": {
      "image/png": "[encoded data removed]",
      "text/plain": [
       "<Figure size 432x288 with 1 Axes>"
      ]
     },
     "metadata": {
      "needs_background": "light"
     },
     "output_type": "display_data"
    }
   ],
   "source": [
    "data['precipitation'].hist()\n",
    "plt.show()"
   ]
  },
  {
   "cell_type": "markdown",
   "metadata": {},
   "source": [
    "Conclusion: OK"
   ]
  },
  {
   "cell_type": "markdown",
   "metadata": {},
   "source": [
    "**Iprec** Cumulated precipitation (mm)"
   ]
  },
  {
   "cell_type": "code",
   "execution_count": 43,
   "metadata": {},
   "outputs": [
    {
     "data": {
      "text/plain": [
       "count    39821.000000\n",
       "mean         0.497750\n",
       "std          4.360741\n",
       "min          0.000000\n",
       "25%          0.000000\n",
       "50%          0.000000\n",
       "75%          0.000000\n",
       "max        120.000000\n",
       "Name: Iprec, dtype: float64"
      ]
     },
     "execution_count": 43,
     "metadata": {},
     "output_type": "execute_result"
    }
   ],
   "source": [
    "data['Iprec'].describe()"
   ]
  },
  {
   "cell_type": "code",
   "execution_count": 44,
   "metadata": {},
   "outputs": [
    {
     "data": {
      "image/png": "[encoded data removed]",
      "text/plain": [
       "<Figure size 432x288 with 1 Axes>"
      ]
     },
     "metadata": {
      "needs_background": "light"
     },
     "output_type": "display_data"
    }
   ],
   "source": [
    "data['Iprec'].hist()\n",
    "plt.show()"
   ]
  },
  {
   "cell_type": "markdown",
   "metadata": {},
   "source": [
    "Conclusion: OK"
   ]
  },
  {
   "cell_type": "markdown",
   "metadata": {},
   "source": [
    "**Section conclusion:** We have outlier **DEWP**"
   ]
  },
  {
   "cell_type": "markdown",
   "metadata": {},
   "source": [
    "#### 1.2 Find NaN values columns and analyze them"
   ]
  },
  {
   "cell_type": "code",
   "execution_count": 45,
   "metadata": {},
   "outputs": [
    {
     "name": "stdout",
     "output_type": "stream",
     "text": [
      "PM_Taiyuanjie\n",
      "PM_US Post\n",
      "PM_Xiaoheyan\n",
      "DEWP\n",
      "HUMI\n",
      "PRES\n",
      "TEMP\n",
      "cbwd\n",
      "Iws\n",
      "precipitation\n",
      "Iprec\n"
     ]
    }
   ],
   "source": [
    "for col in data.columns:\n",
    "    if data[col].isnull().any():\n",
    "        print(col)"
   ]
  },
  {
   "cell_type": "markdown",
   "metadata": {},
   "source": [
    "**PM_...**"
   ]
  },
  {
   "cell_type": "markdown",
   "metadata": {},
   "source": [
    "We have rows with NaN PM values.\n",
    "What I decided to do is remove all PM like columns and create one PM column. \n",
    "I will duplicate all features in a row for each PM like value in one  entry. Simply saying, I have 4 PM like values and that means I will have 4 seperate PM values in separate row. \n",
    "\n",
    "So, I will remove rows if ALL PM like values in this row are NaN values:\n",
    "\n",
    "(PM_, PM_, ..., PM_) == (NaN, NaN, ..., NaN) ---> remove row\n",
    "\n",
    "So let's see how many rows we have "
   ]
  },
  {
   "cell_type": "code",
   "execution_count": 46,
   "metadata": {},
   "outputs": [],
   "source": [
    "def get_pm_columns(data_frame):\n",
    "    cols = list(data_frame.columns)\n",
    "    pm_cols = []\n",
    "    for col in cols:\n",
    "        if col.startswith('PM'):\n",
    "            pm_cols.append(col)\n",
    "    return pm_cols "
   ]
  },
  {
   "cell_type": "code",
   "execution_count": 47,
   "metadata": {},
   "outputs": [
    {
     "data": {
      "text/plain": [
       "(52584, 17)"
      ]
     },
     "execution_count": 47,
     "metadata": {},
     "output_type": "execute_result"
    }
   ],
   "source": [
    "data.shape"
   ]
  },
  {
   "cell_type": "code",
   "execution_count": 48,
   "metadata": {},
   "outputs": [
    {
     "name": "stdout",
     "output_type": "stream",
     "text": [
      "5000  /  52584\n",
      "10000  /  52584\n",
      "15000  /  52584\n",
      "20000  /  52584\n",
      "25000  /  52584\n",
      "30000  /  52584\n",
      "35000  /  52584\n",
      "40000  /  52584\n",
      "45000  /  52584\n",
      "50000  /  52584\n"
     ]
    }
   ],
   "source": [
    "pm_cols = get_pm_columns(data)\n",
    "all_nan_pm_rows_indexes = []\n",
    "(n_rows, n_cols) = data.shape\n",
    "for idx, (index, row) in enumerate(data.iterrows()):\n",
    "    if row[pm_cols].isnull().all(): # .all()\n",
    "        all_nan_pm_rows_indexes.append(index)\n",
    "    \n",
    "    if (idx + 1) % 5000 == 0:\n",
    "        print(idx + 1, ' / ', n_rows)"
   ]
  },
  {
   "cell_type": "code",
   "execution_count": 49,
   "metadata": {},
   "outputs": [
    {
     "name": "stdout",
     "output_type": "stream",
     "text": [
      "Number of all PM NaN rows 26699\n"
     ]
    }
   ],
   "source": [
    "print('Number of all PM NaN rows', len(all_nan_pm_rows_indexes))"
   ]
  },
  {
   "cell_type": "markdown",
   "metadata": {},
   "source": [
    "**DEWP HUMI PRES TEMP** \n",
    "\n",
    "I have strong feeling that these features are related to each other. Let's build correlation matrix to see"
   ]
  },
  {
   "cell_type": "code",
   "execution_count": 50,
   "metadata": {},
   "outputs": [
    {
     "data": {
      "text/html": [
       "<style  type=\"text/css\" >\n",
       "    #T_a89059e4_7e23_11e9_b34e_001a7dda7113 th {\n",
       "          font-size: 7pt;\n",
       "    }    #T_a89059e4_7e23_11e9_b34e_001a7dda7113 td {\n",
       "          padding: 0em 0em;\n",
       "    }    #T_a89059e4_7e23_11e9_b34e_001a7dda7113 th:hover {\n",
       "          font-size: 12pt;\n",
       "    }    #T_a89059e4_7e23_11e9_b34e_001a7dda7113 tr:hover td:hover {\n",
       "          max-width: 200px;\n",
       "          font-size: 12pt;\n",
       "    }    #T_a89059e4_7e23_11e9_b34e_001a7dda7113row0_col0 {\n",
       "            background-color:  #4479bb;\n",
       "            max-width:  80px;\n",
       "            font-size:  10pt;\n",
       "        }    #T_a89059e4_7e23_11e9_b34e_001a7dda7113row0_col1 {\n",
       "            background-color:  #487cbc;\n",
       "            max-width:  80px;\n",
       "            font-size:  10pt;\n",
       "        }    #T_a89059e4_7e23_11e9_b34e_001a7dda7113row0_col2 {\n",
       "            background-color:  #e88d9f;\n",
       "            max-width:  80px;\n",
       "            font-size:  10pt;\n",
       "        }    #T_a89059e4_7e23_11e9_b34e_001a7dda7113row0_col3 {\n",
       "            background-color:  #dd5a74;\n",
       "            max-width:  80px;\n",
       "            font-size:  10pt;\n",
       "        }    #T_a89059e4_7e23_11e9_b34e_001a7dda7113row0_col4 {\n",
       "            background-color:  #dc5570;\n",
       "            max-width:  80px;\n",
       "            font-size:  10pt;\n",
       "        }    #T_a89059e4_7e23_11e9_b34e_001a7dda7113row0_col5 {\n",
       "            background-color:  #df617a;\n",
       "            max-width:  80px;\n",
       "            font-size:  10pt;\n",
       "        }    #T_a89059e4_7e23_11e9_b34e_001a7dda7113row0_col6 {\n",
       "            background-color:  #d73c5b;\n",
       "            max-width:  80px;\n",
       "            font-size:  10pt;\n",
       "        }    #T_a89059e4_7e23_11e9_b34e_001a7dda7113row0_col7 {\n",
       "            background-color:  #e3748a;\n",
       "            max-width:  80px;\n",
       "            font-size:  10pt;\n",
       "        }    #T_a89059e4_7e23_11e9_b34e_001a7dda7113row0_col8 {\n",
       "            background-color:  #d83e5d;\n",
       "            max-width:  80px;\n",
       "            font-size:  10pt;\n",
       "        }    #T_a89059e4_7e23_11e9_b34e_001a7dda7113row0_col9 {\n",
       "            background-color:  #e0657d;\n",
       "            max-width:  80px;\n",
       "            font-size:  10pt;\n",
       "        }    #T_a89059e4_7e23_11e9_b34e_001a7dda7113row0_col10 {\n",
       "            background-color:  #d83e5d;\n",
       "            max-width:  80px;\n",
       "            font-size:  10pt;\n",
       "        }    #T_a89059e4_7e23_11e9_b34e_001a7dda7113row0_col11 {\n",
       "            background-color:  #db4f6b;\n",
       "            max-width:  80px;\n",
       "            font-size:  10pt;\n",
       "        }    #T_a89059e4_7e23_11e9_b34e_001a7dda7113row0_col12 {\n",
       "            background-color:  #e27288;\n",
       "            max-width:  80px;\n",
       "            font-size:  10pt;\n",
       "        }    #T_a89059e4_7e23_11e9_b34e_001a7dda7113row0_col13 {\n",
       "            background-color:  #e16981;\n",
       "            max-width:  80px;\n",
       "            font-size:  10pt;\n",
       "        }    #T_a89059e4_7e23_11e9_b34e_001a7dda7113row0_col14 {\n",
       "            background-color:  #d94563;\n",
       "            max-width:  80px;\n",
       "            font-size:  10pt;\n",
       "        }    #T_a89059e4_7e23_11e9_b34e_001a7dda7113row0_col15 {\n",
       "            background-color:  #d83e5d;\n",
       "            max-width:  80px;\n",
       "            font-size:  10pt;\n",
       "        }    #T_a89059e4_7e23_11e9_b34e_001a7dda7113row1_col0 {\n",
       "            background-color:  #487cbc;\n",
       "            max-width:  80px;\n",
       "            font-size:  10pt;\n",
       "        }    #T_a89059e4_7e23_11e9_b34e_001a7dda7113row1_col1 {\n",
       "            background-color:  #4479bb;\n",
       "            max-width:  80px;\n",
       "            font-size:  10pt;\n",
       "        }    #T_a89059e4_7e23_11e9_b34e_001a7dda7113row1_col2 {\n",
       "            background-color:  #de5c76;\n",
       "            max-width:  80px;\n",
       "            font-size:  10pt;\n",
       "        }    #T_a89059e4_7e23_11e9_b34e_001a7dda7113row1_col3 {\n",
       "            background-color:  #de5b75;\n",
       "            max-width:  80px;\n",
       "            font-size:  10pt;\n",
       "        }    #T_a89059e4_7e23_11e9_b34e_001a7dda7113row1_col4 {\n",
       "            background-color:  #de5c76;\n",
       "            max-width:  80px;\n",
       "            font-size:  10pt;\n",
       "        }    #T_a89059e4_7e23_11e9_b34e_001a7dda7113row1_col5 {\n",
       "            background-color:  #de5b75;\n",
       "            max-width:  80px;\n",
       "            font-size:  10pt;\n",
       "        }    #T_a89059e4_7e23_11e9_b34e_001a7dda7113row1_col6 {\n",
       "            background-color:  #d94764;\n",
       "            max-width:  80px;\n",
       "            font-size:  10pt;\n",
       "        }    #T_a89059e4_7e23_11e9_b34e_001a7dda7113row1_col7 {\n",
       "            background-color:  #e27288;\n",
       "            max-width:  80px;\n",
       "            font-size:  10pt;\n",
       "        }    #T_a89059e4_7e23_11e9_b34e_001a7dda7113row1_col8 {\n",
       "            background-color:  #da4865;\n",
       "            max-width:  80px;\n",
       "            font-size:  10pt;\n",
       "        }    #T_a89059e4_7e23_11e9_b34e_001a7dda7113row1_col9 {\n",
       "            background-color:  #de5e77;\n",
       "            max-width:  80px;\n",
       "            font-size:  10pt;\n",
       "        }    #T_a89059e4_7e23_11e9_b34e_001a7dda7113row1_col10 {\n",
       "            background-color:  #d73c5b;\n",
       "            max-width:  80px;\n",
       "            font-size:  10pt;\n",
       "        }    #T_a89059e4_7e23_11e9_b34e_001a7dda7113row1_col11 {\n",
       "            background-color:  #de5b75;\n",
       "            max-width:  80px;\n",
       "            font-size:  10pt;\n",
       "        }    #T_a89059e4_7e23_11e9_b34e_001a7dda7113row1_col12 {\n",
       "            background-color:  #e16d85;\n",
       "            max-width:  80px;\n",
       "            font-size:  10pt;\n",
       "        }    #T_a89059e4_7e23_11e9_b34e_001a7dda7113row1_col13 {\n",
       "            background-color:  #e27288;\n",
       "            max-width:  80px;\n",
       "            font-size:  10pt;\n",
       "        }    #T_a89059e4_7e23_11e9_b34e_001a7dda7113row1_col14 {\n",
       "            background-color:  #db4d69;\n",
       "            max-width:  80px;\n",
       "            font-size:  10pt;\n",
       "        }    #T_a89059e4_7e23_11e9_b34e_001a7dda7113row1_col15 {\n",
       "            background-color:  #d94563;\n",
       "            max-width:  80px;\n",
       "            font-size:  10pt;\n",
       "        }    #T_a89059e4_7e23_11e9_b34e_001a7dda7113row2_col0 {\n",
       "            background-color:  #e78a9d;\n",
       "            max-width:  80px;\n",
       "            font-size:  10pt;\n",
       "        }    #T_a89059e4_7e23_11e9_b34e_001a7dda7113row2_col1 {\n",
       "            background-color:  #dc516d;\n",
       "            max-width:  80px;\n",
       "            font-size:  10pt;\n",
       "        }    #T_a89059e4_7e23_11e9_b34e_001a7dda7113row2_col2 {\n",
       "            background-color:  #4479bb;\n",
       "            max-width:  80px;\n",
       "            font-size:  10pt;\n",
       "        }    #T_a89059e4_7e23_11e9_b34e_001a7dda7113row2_col3 {\n",
       "            background-color:  #dc546f;\n",
       "            max-width:  80px;\n",
       "            font-size:  10pt;\n",
       "        }    #T_a89059e4_7e23_11e9_b34e_001a7dda7113row2_col4 {\n",
       "            background-color:  #dc516d;\n",
       "            max-width:  80px;\n",
       "            font-size:  10pt;\n",
       "        }    #T_a89059e4_7e23_11e9_b34e_001a7dda7113row2_col5 {\n",
       "            background-color:  #ea97a8;\n",
       "            max-width:  80px;\n",
       "            font-size:  10pt;\n",
       "        }    #T_a89059e4_7e23_11e9_b34e_001a7dda7113row2_col6 {\n",
       "            background-color:  #d73c5b;\n",
       "            max-width:  80px;\n",
       "            font-size:  10pt;\n",
       "        }    #T_a89059e4_7e23_11e9_b34e_001a7dda7113row2_col7 {\n",
       "            background-color:  #e06880;\n",
       "            max-width:  80px;\n",
       "            font-size:  10pt;\n",
       "        }    #T_a89059e4_7e23_11e9_b34e_001a7dda7113row2_col8 {\n",
       "            background-color:  #d94563;\n",
       "            max-width:  80px;\n",
       "            font-size:  10pt;\n",
       "        }    #T_a89059e4_7e23_11e9_b34e_001a7dda7113row2_col9 {\n",
       "            background-color:  #eda7b5;\n",
       "            max-width:  80px;\n",
       "            font-size:  10pt;\n",
       "        }    #T_a89059e4_7e23_11e9_b34e_001a7dda7113row2_col10 {\n",
       "            background-color:  #e890a1;\n",
       "            max-width:  80px;\n",
       "            font-size:  10pt;\n",
       "        }    #T_a89059e4_7e23_11e9_b34e_001a7dda7113row2_col11 {\n",
       "            background-color:  #d73c5b;\n",
       "            max-width:  80px;\n",
       "            font-size:  10pt;\n",
       "        }    #T_a89059e4_7e23_11e9_b34e_001a7dda7113row2_col12 {\n",
       "            background-color:  #e993a4;\n",
       "            max-width:  80px;\n",
       "            font-size:  10pt;\n",
       "        }    #T_a89059e4_7e23_11e9_b34e_001a7dda7113row2_col13 {\n",
       "            background-color:  #da4865;\n",
       "            max-width:  80px;\n",
       "            font-size:  10pt;\n",
       "        }    #T_a89059e4_7e23_11e9_b34e_001a7dda7113row2_col14 {\n",
       "            background-color:  #dc5570;\n",
       "            max-width:  80px;\n",
       "            font-size:  10pt;\n",
       "        }    #T_a89059e4_7e23_11e9_b34e_001a7dda7113row2_col15 {\n",
       "            background-color:  #dd5872;\n",
       "            max-width:  80px;\n",
       "            font-size:  10pt;\n",
       "        }    #T_a89059e4_7e23_11e9_b34e_001a7dda7113row3_col0 {\n",
       "            background-color:  #d94563;\n",
       "            max-width:  80px;\n",
       "            font-size:  10pt;\n",
       "        }    #T_a89059e4_7e23_11e9_b34e_001a7dda7113row3_col1 {\n",
       "            background-color:  #d8405e;\n",
       "            max-width:  80px;\n",
       "            font-size:  10pt;\n",
       "        }    #T_a89059e4_7e23_11e9_b34e_001a7dda7113row3_col2 {\n",
       "            background-color:  #d94462;\n",
       "            max-width:  80px;\n",
       "            font-size:  10pt;\n",
       "        }    #T_a89059e4_7e23_11e9_b34e_001a7dda7113row3_col3 {\n",
       "            background-color:  #4479bb;\n",
       "            max-width:  80px;\n",
       "            font-size:  10pt;\n",
       "        }    #T_a89059e4_7e23_11e9_b34e_001a7dda7113row3_col4 {\n",
       "            background-color:  #d8405e;\n",
       "            max-width:  80px;\n",
       "            font-size:  10pt;\n",
       "        }    #T_a89059e4_7e23_11e9_b34e_001a7dda7113row3_col5 {\n",
       "            background-color:  #d73c5b;\n",
       "            max-width:  80px;\n",
       "            font-size:  10pt;\n",
       "        }    #T_a89059e4_7e23_11e9_b34e_001a7dda7113row3_col6 {\n",
       "            background-color:  #de5f79;\n",
       "            max-width:  80px;\n",
       "            font-size:  10pt;\n",
       "        }    #T_a89059e4_7e23_11e9_b34e_001a7dda7113row3_col7 {\n",
       "            background-color:  #de5e77;\n",
       "            max-width:  80px;\n",
       "            font-size:  10pt;\n",
       "        }    #T_a89059e4_7e23_11e9_b34e_001a7dda7113row3_col8 {\n",
       "            background-color:  #de5c76;\n",
       "            max-width:  80px;\n",
       "            font-size:  10pt;\n",
       "        }    #T_a89059e4_7e23_11e9_b34e_001a7dda7113row3_col9 {\n",
       "            background-color:  #da4865;\n",
       "            max-width:  80px;\n",
       "            font-size:  10pt;\n",
       "        }    #T_a89059e4_7e23_11e9_b34e_001a7dda7113row3_col10 {\n",
       "            background-color:  #d94462;\n",
       "            max-width:  80px;\n",
       "            font-size:  10pt;\n",
       "        }    #T_a89059e4_7e23_11e9_b34e_001a7dda7113row3_col11 {\n",
       "            background-color:  #d8405e;\n",
       "            max-width:  80px;\n",
       "            font-size:  10pt;\n",
       "        }    #T_a89059e4_7e23_11e9_b34e_001a7dda7113row3_col12 {\n",
       "            background-color:  #d94764;\n",
       "            max-width:  80px;\n",
       "            font-size:  10pt;\n",
       "        }    #T_a89059e4_7e23_11e9_b34e_001a7dda7113row3_col13 {\n",
       "            background-color:  #d94462;\n",
       "            max-width:  80px;\n",
       "            font-size:  10pt;\n",
       "        }    #T_a89059e4_7e23_11e9_b34e_001a7dda7113row3_col14 {\n",
       "            background-color:  #d73d5c;\n",
       "            max-width:  80px;\n",
       "            font-size:  10pt;\n",
       "        }    #T_a89059e4_7e23_11e9_b34e_001a7dda7113row3_col15 {\n",
       "            background-color:  #d73c5b;\n",
       "            max-width:  80px;\n",
       "            font-size:  10pt;\n",
       "        }    #T_a89059e4_7e23_11e9_b34e_001a7dda7113row4_col0 {\n",
       "            background-color:  #e58195;\n",
       "            max-width:  80px;\n",
       "            font-size:  10pt;\n",
       "        }    #T_a89059e4_7e23_11e9_b34e_001a7dda7113row4_col1 {\n",
       "            background-color:  #e58195;\n",
       "            max-width:  80px;\n",
       "            font-size:  10pt;\n",
       "        }    #T_a89059e4_7e23_11e9_b34e_001a7dda7113row4_col2 {\n",
       "            background-color:  #e58195;\n",
       "            max-width:  80px;\n",
       "            font-size:  10pt;\n",
       "        }    #T_a89059e4_7e23_11e9_b34e_001a7dda7113row4_col3 {\n",
       "            background-color:  #e58195;\n",
       "            max-width:  80px;\n",
       "            font-size:  10pt;\n",
       "        }    #T_a89059e4_7e23_11e9_b34e_001a7dda7113row4_col4 {\n",
       "            background-color:  #4479bb;\n",
       "            max-width:  80px;\n",
       "            font-size:  10pt;\n",
       "        }    #T_a89059e4_7e23_11e9_b34e_001a7dda7113row4_col5 {\n",
       "            background-color:  #e58195;\n",
       "            max-width:  80px;\n",
       "            font-size:  10pt;\n",
       "        }    #T_a89059e4_7e23_11e9_b34e_001a7dda7113row4_col6 {\n",
       "            background-color:  #e27389;\n",
       "            max-width:  80px;\n",
       "            font-size:  10pt;\n",
       "        }    #T_a89059e4_7e23_11e9_b34e_001a7dda7113row4_col7 {\n",
       "            background-color:  #e16d85;\n",
       "            max-width:  80px;\n",
       "            font-size:  10pt;\n",
       "        }    #T_a89059e4_7e23_11e9_b34e_001a7dda7113row4_col8 {\n",
       "            background-color:  #e27288;\n",
       "            max-width:  80px;\n",
       "            font-size:  10pt;\n",
       "        }    #T_a89059e4_7e23_11e9_b34e_001a7dda7113row4_col9 {\n",
       "            background-color:  #e68396;\n",
       "            max-width:  80px;\n",
       "            font-size:  10pt;\n",
       "        }    #T_a89059e4_7e23_11e9_b34e_001a7dda7113row4_col10 {\n",
       "            background-color:  #d73c5b;\n",
       "            max-width:  80px;\n",
       "            font-size:  10pt;\n",
       "        }    #T_a89059e4_7e23_11e9_b34e_001a7dda7113row4_col11 {\n",
       "            background-color:  #e47c91;\n",
       "            max-width:  80px;\n",
       "            font-size:  10pt;\n",
       "        }    #T_a89059e4_7e23_11e9_b34e_001a7dda7113row4_col12 {\n",
       "            background-color:  #eca1b0;\n",
       "            max-width:  80px;\n",
       "            font-size:  10pt;\n",
       "        }    #T_a89059e4_7e23_11e9_b34e_001a7dda7113row4_col13 {\n",
       "            background-color:  #ea96a7;\n",
       "            max-width:  80px;\n",
       "            font-size:  10pt;\n",
       "        }    #T_a89059e4_7e23_11e9_b34e_001a7dda7113row4_col14 {\n",
       "            background-color:  #e58195;\n",
       "            max-width:  80px;\n",
       "            font-size:  10pt;\n",
       "        }    #T_a89059e4_7e23_11e9_b34e_001a7dda7113row4_col15 {\n",
       "            background-color:  #e58094;\n",
       "            max-width:  80px;\n",
       "            font-size:  10pt;\n",
       "        }    #T_a89059e4_7e23_11e9_b34e_001a7dda7113row5_col0 {\n",
       "            background-color:  #f3c6cf;\n",
       "            max-width:  80px;\n",
       "            font-size:  10pt;\n",
       "        }    #T_a89059e4_7e23_11e9_b34e_001a7dda7113row5_col1 {\n",
       "            background-color:  #f2bdc8;\n",
       "            max-width:  80px;\n",
       "            font-size:  10pt;\n",
       "        }    #T_a89059e4_7e23_11e9_b34e_001a7dda7113row5_col2 {\n",
       "            background-color:  #f2f2f2;\n",
       "            max-width:  80px;\n",
       "            font-size:  10pt;\n",
       "        }    #T_a89059e4_7e23_11e9_b34e_001a7dda7113row5_col3 {\n",
       "            background-color:  #f1bbc6;\n",
       "            max-width:  80px;\n",
       "            font-size:  10pt;\n",
       "        }    #T_a89059e4_7e23_11e9_b34e_001a7dda7113row5_col4 {\n",
       "            background-color:  #f2bdc8;\n",
       "            max-width:  80px;\n",
       "            font-size:  10pt;\n",
       "        }    #T_a89059e4_7e23_11e9_b34e_001a7dda7113row5_col5 {\n",
       "            background-color:  #4479bb;\n",
       "            max-width:  80px;\n",
       "            font-size:  10pt;\n",
       "        }    #T_a89059e4_7e23_11e9_b34e_001a7dda7113row5_col6 {\n",
       "            background-color:  #f2f2f2;\n",
       "            max-width:  80px;\n",
       "            font-size:  10pt;\n",
       "        }    #T_a89059e4_7e23_11e9_b34e_001a7dda7113row5_col7 {\n",
       "            background-color:  #eaf0f7;\n",
       "            max-width:  80px;\n",
       "            font-size:  10pt;\n",
       "        }    #T_a89059e4_7e23_11e9_b34e_001a7dda7113row5_col8 {\n",
       "            background-color:  #e7eef6;\n",
       "            max-width:  80px;\n",
       "            font-size:  10pt;\n",
       "        }    #T_a89059e4_7e23_11e9_b34e_001a7dda7113row5_col9 {\n",
       "            background-color:  #dc546f;\n",
       "            max-width:  80px;\n",
       "            font-size:  10pt;\n",
       "        }    #T_a89059e4_7e23_11e9_b34e_001a7dda7113row5_col10 {\n",
       "            background-color:  #f7d6dd;\n",
       "            max-width:  80px;\n",
       "            font-size:  10pt;\n",
       "        }    #T_a89059e4_7e23_11e9_b34e_001a7dda7113row5_col11 {\n",
       "            background-color:  #a8c0df;\n",
       "            max-width:  80px;\n",
       "            font-size:  10pt;\n",
       "        }    #T_a89059e4_7e23_11e9_b34e_001a7dda7113row5_col12 {\n",
       "            background-color:  #d73c5b;\n",
       "            max-width:  80px;\n",
       "            font-size:  10pt;\n",
       "        }    #T_a89059e4_7e23_11e9_b34e_001a7dda7113row5_col13 {\n",
       "            background-color:  #eb9ead;\n",
       "            max-width:  80px;\n",
       "            font-size:  10pt;\n",
       "        }    #T_a89059e4_7e23_11e9_b34e_001a7dda7113row5_col14 {\n",
       "            background-color:  #f0b7c2;\n",
       "            max-width:  80px;\n",
       "            font-size:  10pt;\n",
       "        }    #T_a89059e4_7e23_11e9_b34e_001a7dda7113row5_col15 {\n",
       "            background-color:  #f0b7c2;\n",
       "            max-width:  80px;\n",
       "            font-size:  10pt;\n",
       "        }    #T_a89059e4_7e23_11e9_b34e_001a7dda7113row6_col0 {\n",
       "            background-color:  #e57f93;\n",
       "            max-width:  80px;\n",
       "            font-size:  10pt;\n",
       "        }    #T_a89059e4_7e23_11e9_b34e_001a7dda7113row6_col1 {\n",
       "            background-color:  #e68396;\n",
       "            max-width:  80px;\n",
       "            font-size:  10pt;\n",
       "        }    #T_a89059e4_7e23_11e9_b34e_001a7dda7113row6_col2 {\n",
       "            background-color:  #e58195;\n",
       "            max-width:  80px;\n",
       "            font-size:  10pt;\n",
       "        }    #T_a89059e4_7e23_11e9_b34e_001a7dda7113row6_col3 {\n",
       "            background-color:  #eeabb8;\n",
       "            max-width:  80px;\n",
       "            font-size:  10pt;\n",
       "        }    #T_a89059e4_7e23_11e9_b34e_001a7dda7113row6_col4 {\n",
       "            background-color:  #e68598;\n",
       "            max-width:  80px;\n",
       "            font-size:  10pt;\n",
       "        }    #T_a89059e4_7e23_11e9_b34e_001a7dda7113row6_col5 {\n",
       "            background-color:  #f7d7de;\n",
       "            max-width:  80px;\n",
       "            font-size:  10pt;\n",
       "        }    #T_a89059e4_7e23_11e9_b34e_001a7dda7113row6_col6 {\n",
       "            background-color:  #4479bb;\n",
       "            max-width:  80px;\n",
       "            font-size:  10pt;\n",
       "        }    #T_a89059e4_7e23_11e9_b34e_001a7dda7113row6_col7 {\n",
       "            background-color:  #5787c2;\n",
       "            max-width:  80px;\n",
       "            font-size:  10pt;\n",
       "        }    #T_a89059e4_7e23_11e9_b34e_001a7dda7113row6_col8 {\n",
       "            background-color:  #5787c2;\n",
       "            max-width:  80px;\n",
       "            font-size:  10pt;\n",
       "        }    #T_a89059e4_7e23_11e9_b34e_001a7dda7113row6_col9 {\n",
       "            background-color:  #dd5872;\n",
       "            max-width:  80px;\n",
       "            font-size:  10pt;\n",
       "        }    #T_a89059e4_7e23_11e9_b34e_001a7dda7113row6_col10 {\n",
       "            background-color:  #f4cad3;\n",
       "            max-width:  80px;\n",
       "            font-size:  10pt;\n",
       "        }    #T_a89059e4_7e23_11e9_b34e_001a7dda7113row6_col11 {\n",
       "            background-color:  #fae7eb;\n",
       "            max-width:  80px;\n",
       "            font-size:  10pt;\n",
       "        }    #T_a89059e4_7e23_11e9_b34e_001a7dda7113row6_col12 {\n",
       "            background-color:  #d73c5b;\n",
       "            max-width:  80px;\n",
       "            font-size:  10pt;\n",
       "        }    #T_a89059e4_7e23_11e9_b34e_001a7dda7113row6_col13 {\n",
       "            background-color:  #e68396;\n",
       "            max-width:  80px;\n",
       "            font-size:  10pt;\n",
       "        }    #T_a89059e4_7e23_11e9_b34e_001a7dda7113row6_col14 {\n",
       "            background-color:  #e78a9d;\n",
       "            max-width:  80px;\n",
       "            font-size:  10pt;\n",
       "        }    #T_a89059e4_7e23_11e9_b34e_001a7dda7113row6_col15 {\n",
       "            background-color:  #e68699;\n",
       "            max-width:  80px;\n",
       "            font-size:  10pt;\n",
       "        }    #T_a89059e4_7e23_11e9_b34e_001a7dda7113row7_col0 {\n",
       "            background-color:  #f0b4c0;\n",
       "            max-width:  80px;\n",
       "            font-size:  10pt;\n",
       "        }    #T_a89059e4_7e23_11e9_b34e_001a7dda7113row7_col1 {\n",
       "            background-color:  #eeacba;\n",
       "            max-width:  80px;\n",
       "            font-size:  10pt;\n",
       "        }    #T_a89059e4_7e23_11e9_b34e_001a7dda7113row7_col2 {\n",
       "            background-color:  #eeacba;\n",
       "            max-width:  80px;\n",
       "            font-size:  10pt;\n",
       "        }    #T_a89059e4_7e23_11e9_b34e_001a7dda7113row7_col3 {\n",
       "            background-color:  #efb1be;\n",
       "            max-width:  80px;\n",
       "            font-size:  10pt;\n",
       "        }    #T_a89059e4_7e23_11e9_b34e_001a7dda7113row7_col4 {\n",
       "            background-color:  #e7879b;\n",
       "            max-width:  80px;\n",
       "            font-size:  10pt;\n",
       "        }    #T_a89059e4_7e23_11e9_b34e_001a7dda7113row7_col5 {\n",
       "            background-color:  #fae4e9;\n",
       "            max-width:  80px;\n",
       "            font-size:  10pt;\n",
       "        }    #T_a89059e4_7e23_11e9_b34e_001a7dda7113row7_col6 {\n",
       "            background-color:  #5787c2;\n",
       "            max-width:  80px;\n",
       "            font-size:  10pt;\n",
       "        }    #T_a89059e4_7e23_11e9_b34e_001a7dda7113row7_col7 {\n",
       "            background-color:  #4479bb;\n",
       "            max-width:  80px;\n",
       "            font-size:  10pt;\n",
       "        }    #T_a89059e4_7e23_11e9_b34e_001a7dda7113row7_col8 {\n",
       "            background-color:  #5787c2;\n",
       "            max-width:  80px;\n",
       "            font-size:  10pt;\n",
       "        }    #T_a89059e4_7e23_11e9_b34e_001a7dda7113row7_col9 {\n",
       "            background-color:  #dd5a74;\n",
       "            max-width:  80px;\n",
       "            font-size:  10pt;\n",
       "        }    #T_a89059e4_7e23_11e9_b34e_001a7dda7113row7_col10 {\n",
       "            background-color:  #f6d1d8;\n",
       "            max-width:  80px;\n",
       "            font-size:  10pt;\n",
       "        }    #T_a89059e4_7e23_11e9_b34e_001a7dda7113row7_col11 {\n",
       "            background-color:  #e8eff7;\n",
       "            max-width:  80px;\n",
       "            font-size:  10pt;\n",
       "        }    #T_a89059e4_7e23_11e9_b34e_001a7dda7113row7_col12 {\n",
       "            background-color:  #d73c5b;\n",
       "            max-width:  80px;\n",
       "            font-size:  10pt;\n",
       "        }    #T_a89059e4_7e23_11e9_b34e_001a7dda7113row7_col13 {\n",
       "            background-color:  #e68699;\n",
       "            max-width:  80px;\n",
       "            font-size:  10pt;\n",
       "        }    #T_a89059e4_7e23_11e9_b34e_001a7dda7113row7_col14 {\n",
       "            background-color:  #e991a3;\n",
       "            max-width:  80px;\n",
       "            font-size:  10pt;\n",
       "        }    #T_a89059e4_7e23_11e9_b34e_001a7dda7113row7_col15 {\n",
       "            background-color:  #e78a9d;\n",
       "            max-width:  80px;\n",
       "            font-size:  10pt;\n",
       "        }    #T_a89059e4_7e23_11e9_b34e_001a7dda7113row8_col0 {\n",
       "            background-color:  #e78a9d;\n",
       "            max-width:  80px;\n",
       "            font-size:  10pt;\n",
       "        }    #T_a89059e4_7e23_11e9_b34e_001a7dda7113row8_col1 {\n",
       "            background-color:  #e78c9e;\n",
       "            max-width:  80px;\n",
       "            font-size:  10pt;\n",
       "        }    #T_a89059e4_7e23_11e9_b34e_001a7dda7113row8_col2 {\n",
       "            background-color:  #e993a4;\n",
       "            max-width:  80px;\n",
       "            font-size:  10pt;\n",
       "        }    #T_a89059e4_7e23_11e9_b34e_001a7dda7113row8_col3 {\n",
       "            background-color:  #efb1be;\n",
       "            max-width:  80px;\n",
       "            font-size:  10pt;\n",
       "        }    #T_a89059e4_7e23_11e9_b34e_001a7dda7113row8_col4 {\n",
       "            background-color:  #e78c9e;\n",
       "            max-width:  80px;\n",
       "            font-size:  10pt;\n",
       "        }    #T_a89059e4_7e23_11e9_b34e_001a7dda7113row8_col5 {\n",
       "            background-color:  #fae7eb;\n",
       "            max-width:  80px;\n",
       "            font-size:  10pt;\n",
       "        }    #T_a89059e4_7e23_11e9_b34e_001a7dda7113row8_col6 {\n",
       "            background-color:  #5787c2;\n",
       "            max-width:  80px;\n",
       "            font-size:  10pt;\n",
       "        }    #T_a89059e4_7e23_11e9_b34e_001a7dda7113row8_col7 {\n",
       "            background-color:  #5787c2;\n",
       "            max-width:  80px;\n",
       "            font-size:  10pt;\n",
       "        }    #T_a89059e4_7e23_11e9_b34e_001a7dda7113row8_col8 {\n",
       "            background-color:  #4479bb;\n",
       "            max-width:  80px;\n",
       "            font-size:  10pt;\n",
       "        }    #T_a89059e4_7e23_11e9_b34e_001a7dda7113row8_col9 {\n",
       "            background-color:  #dd5671;\n",
       "            max-width:  80px;\n",
       "            font-size:  10pt;\n",
       "        }    #T_a89059e4_7e23_11e9_b34e_001a7dda7113row8_col10 {\n",
       "            background-color:  #f5ccd4;\n",
       "            max-width:  80px;\n",
       "            font-size:  10pt;\n",
       "        }    #T_a89059e4_7e23_11e9_b34e_001a7dda7113row8_col11 {\n",
       "            background-color:  #f2f2f2;\n",
       "            max-width:  80px;\n",
       "            font-size:  10pt;\n",
       "        }    #T_a89059e4_7e23_11e9_b34e_001a7dda7113row8_col12 {\n",
       "            background-color:  #d73c5b;\n",
       "            max-width:  80px;\n",
       "            font-size:  10pt;\n",
       "        }    #T_a89059e4_7e23_11e9_b34e_001a7dda7113row8_col13 {\n",
       "            background-color:  #e7879b;\n",
       "            max-width:  80px;\n",
       "            font-size:  10pt;\n",
       "        }    #T_a89059e4_7e23_11e9_b34e_001a7dda7113row8_col14 {\n",
       "            background-color:  #e890a1;\n",
       "            max-width:  80px;\n",
       "            font-size:  10pt;\n",
       "        }    #T_a89059e4_7e23_11e9_b34e_001a7dda7113row8_col15 {\n",
       "            background-color:  #e78c9e;\n",
       "            max-width:  80px;\n",
       "            font-size:  10pt;\n",
       "        }    #T_a89059e4_7e23_11e9_b34e_001a7dda7113row9_col0 {\n",
       "            background-color:  #fae7eb;\n",
       "            max-width:  80px;\n",
       "            font-size:  10pt;\n",
       "        }    #T_a89059e4_7e23_11e9_b34e_001a7dda7113row9_col1 {\n",
       "            background-color:  #f8dfe4;\n",
       "            max-width:  80px;\n",
       "            font-size:  10pt;\n",
       "        }    #T_a89059e4_7e23_11e9_b34e_001a7dda7113row9_col2 {\n",
       "            background-color:  #d7e2f0;\n",
       "            max-width:  80px;\n",
       "            font-size:  10pt;\n",
       "        }    #T_a89059e4_7e23_11e9_b34e_001a7dda7113row9_col3 {\n",
       "            background-color:  #f9e2e6;\n",
       "            max-width:  80px;\n",
       "            font-size:  10pt;\n",
       "        }    #T_a89059e4_7e23_11e9_b34e_001a7dda7113row9_col4 {\n",
       "            background-color:  #f8dfe4;\n",
       "            max-width:  80px;\n",
       "            font-size:  10pt;\n",
       "        }    #T_a89059e4_7e23_11e9_b34e_001a7dda7113row9_col5 {\n",
       "            background-color:  #e58195;\n",
       "            max-width:  80px;\n",
       "            font-size:  10pt;\n",
       "        }    #T_a89059e4_7e23_11e9_b34e_001a7dda7113row9_col6 {\n",
       "            background-color:  #efb2bf;\n",
       "            max-width:  80px;\n",
       "            font-size:  10pt;\n",
       "        }    #T_a89059e4_7e23_11e9_b34e_001a7dda7113row9_col7 {\n",
       "            background-color:  #eeacba;\n",
       "            max-width:  80px;\n",
       "            font-size:  10pt;\n",
       "        }    #T_a89059e4_7e23_11e9_b34e_001a7dda7113row9_col8 {\n",
       "            background-color:  #eeaab7;\n",
       "            max-width:  80px;\n",
       "            font-size:  10pt;\n",
       "        }    #T_a89059e4_7e23_11e9_b34e_001a7dda7113row9_col9 {\n",
       "            background-color:  #4479bb;\n",
       "            max-width:  80px;\n",
       "            font-size:  10pt;\n",
       "        }    #T_a89059e4_7e23_11e9_b34e_001a7dda7113row9_col10 {\n",
       "            background-color:  #b7cbe5;\n",
       "            max-width:  80px;\n",
       "            font-size:  10pt;\n",
       "        }    #T_a89059e4_7e23_11e9_b34e_001a7dda7113row9_col11 {\n",
       "            background-color:  #d73c5b;\n",
       "            max-width:  80px;\n",
       "            font-size:  10pt;\n",
       "        }    #T_a89059e4_7e23_11e9_b34e_001a7dda7113row9_col12 {\n",
       "            background-color:  #5485c1;\n",
       "            max-width:  80px;\n",
       "            font-size:  10pt;\n",
       "        }    #T_a89059e4_7e23_11e9_b34e_001a7dda7113row9_col13 {\n",
       "            background-color:  #f8dfe4;\n",
       "            max-width:  80px;\n",
       "            font-size:  10pt;\n",
       "        }    #T_a89059e4_7e23_11e9_b34e_001a7dda7113row9_col14 {\n",
       "            background-color:  #f2f2f2;\n",
       "            max-width:  80px;\n",
       "            font-size:  10pt;\n",
       "        }    #T_a89059e4_7e23_11e9_b34e_001a7dda7113row9_col15 {\n",
       "            background-color:  #f2f2f2;\n",
       "            max-width:  80px;\n",
       "            font-size:  10pt;\n",
       "        }    #T_a89059e4_7e23_11e9_b34e_001a7dda7113row10_col0 {\n",
       "            background-color:  #e26f86;\n",
       "            max-width:  80px;\n",
       "            font-size:  10pt;\n",
       "        }    #T_a89059e4_7e23_11e9_b34e_001a7dda7113row10_col1 {\n",
       "            background-color:  #e0657d;\n",
       "            max-width:  80px;\n",
       "            font-size:  10pt;\n",
       "        }    #T_a89059e4_7e23_11e9_b34e_001a7dda7113row10_col2 {\n",
       "            background-color:  #f1b8c3;\n",
       "            max-width:  80px;\n",
       "            font-size:  10pt;\n",
       "        }    #T_a89059e4_7e23_11e9_b34e_001a7dda7113row10_col3 {\n",
       "            background-color:  #e68699;\n",
       "            max-width:  80px;\n",
       "            font-size:  10pt;\n",
       "        }    #T_a89059e4_7e23_11e9_b34e_001a7dda7113row10_col4 {\n",
       "            background-color:  #d73c5b;\n",
       "            max-width:  80px;\n",
       "            font-size:  10pt;\n",
       "        }    #T_a89059e4_7e23_11e9_b34e_001a7dda7113row10_col5 {\n",
       "            background-color:  #eca1b0;\n",
       "            max-width:  80px;\n",
       "            font-size:  10pt;\n",
       "        }    #T_a89059e4_7e23_11e9_b34e_001a7dda7113row10_col6 {\n",
       "            background-color:  #f1bcc7;\n",
       "            max-width:  80px;\n",
       "            font-size:  10pt;\n",
       "        }    #T_a89059e4_7e23_11e9_b34e_001a7dda7113row10_col7 {\n",
       "            background-color:  #f1bcc7;\n",
       "            max-width:  80px;\n",
       "            font-size:  10pt;\n",
       "        }    #T_a89059e4_7e23_11e9_b34e_001a7dda7113row10_col8 {\n",
       "            background-color:  #f1b8c3;\n",
       "            max-width:  80px;\n",
       "            font-size:  10pt;\n",
       "        }    #T_a89059e4_7e23_11e9_b34e_001a7dda7113row10_col9 {\n",
       "            background-color:  #ebf1f8;\n",
       "            max-width:  80px;\n",
       "            font-size:  10pt;\n",
       "        }    #T_a89059e4_7e23_11e9_b34e_001a7dda7113row10_col10 {\n",
       "            background-color:  #4479bb;\n",
       "            max-width:  80px;\n",
       "            font-size:  10pt;\n",
       "        }    #T_a89059e4_7e23_11e9_b34e_001a7dda7113row10_col11 {\n",
       "            background-color:  #da4b68;\n",
       "            max-width:  80px;\n",
       "            font-size:  10pt;\n",
       "        }    #T_a89059e4_7e23_11e9_b34e_001a7dda7113row10_col12 {\n",
       "            background-color:  #e68598;\n",
       "            max-width:  80px;\n",
       "            font-size:  10pt;\n",
       "        }    #T_a89059e4_7e23_11e9_b34e_001a7dda7113row10_col13 {\n",
       "            background-color:  #db4d69;\n",
       "            max-width:  80px;\n",
       "            font-size:  10pt;\n",
       "        }    #T_a89059e4_7e23_11e9_b34e_001a7dda7113row10_col14 {\n",
       "            background-color:  #eda8b6;\n",
       "            max-width:  80px;\n",
       "            font-size:  10pt;\n",
       "        }    #T_a89059e4_7e23_11e9_b34e_001a7dda7113row10_col15 {\n",
       "            background-color:  #eeaebb;\n",
       "            max-width:  80px;\n",
       "            font-size:  10pt;\n",
       "        }    #T_a89059e4_7e23_11e9_b34e_001a7dda7113row11_col0 {\n",
       "            background-color:  #f7dae0;\n",
       "            max-width:  80px;\n",
       "            font-size:  10pt;\n",
       "        }    #T_a89059e4_7e23_11e9_b34e_001a7dda7113row11_col1 {\n",
       "            background-color:  #f8dee3;\n",
       "            max-width:  80px;\n",
       "            font-size:  10pt;\n",
       "        }    #T_a89059e4_7e23_11e9_b34e_001a7dda7113row11_col2 {\n",
       "            background-color:  #f6d1d8;\n",
       "            max-width:  80px;\n",
       "            font-size:  10pt;\n",
       "        }    #T_a89059e4_7e23_11e9_b34e_001a7dda7113row11_col3 {\n",
       "            background-color:  #f8dee3;\n",
       "            max-width:  80px;\n",
       "            font-size:  10pt;\n",
       "        }    #T_a89059e4_7e23_11e9_b34e_001a7dda7113row11_col4 {\n",
       "            background-color:  #f7d9df;\n",
       "            max-width:  80px;\n",
       "            font-size:  10pt;\n",
       "        }    #T_a89059e4_7e23_11e9_b34e_001a7dda7113row11_col5 {\n",
       "            background-color:  #9bb7da;\n",
       "            max-width:  80px;\n",
       "            font-size:  10pt;\n",
       "        }    #T_a89059e4_7e23_11e9_b34e_001a7dda7113row11_col6 {\n",
       "            background-color:  #cddbed;\n",
       "            max-width:  80px;\n",
       "            font-size:  10pt;\n",
       "        }    #T_a89059e4_7e23_11e9_b34e_001a7dda7113row11_col7 {\n",
       "            background-color:  #c0d2e8;\n",
       "            max-width:  80px;\n",
       "            font-size:  10pt;\n",
       "        }    #T_a89059e4_7e23_11e9_b34e_001a7dda7113row11_col8 {\n",
       "            background-color:  #c5d5ea;\n",
       "            max-width:  80px;\n",
       "            font-size:  10pt;\n",
       "        }    #T_a89059e4_7e23_11e9_b34e_001a7dda7113row11_col9 {\n",
       "            background-color:  #d73c5b;\n",
       "            max-width:  80px;\n",
       "            font-size:  10pt;\n",
       "        }    #T_a89059e4_7e23_11e9_b34e_001a7dda7113row11_col10 {\n",
       "            background-color:  #f1b8c3;\n",
       "            max-width:  80px;\n",
       "            font-size:  10pt;\n",
       "        }    #T_a89059e4_7e23_11e9_b34e_001a7dda7113row11_col11 {\n",
       "            background-color:  #4479bb;\n",
       "            max-width:  80px;\n",
       "            font-size:  10pt;\n",
       "        }    #T_a89059e4_7e23_11e9_b34e_001a7dda7113row11_col12 {\n",
       "            background-color:  #d73c5b;\n",
       "            max-width:  80px;\n",
       "            font-size:  10pt;\n",
       "        }    #T_a89059e4_7e23_11e9_b34e_001a7dda7113row11_col13 {\n",
       "            background-color:  #f4cad3;\n",
       "            max-width:  80px;\n",
       "            font-size:  10pt;\n",
       "        }    #T_a89059e4_7e23_11e9_b34e_001a7dda7113row11_col14 {\n",
       "            background-color:  #f4c9d2;\n",
       "            max-width:  80px;\n",
       "            font-size:  10pt;\n",
       "        }    #T_a89059e4_7e23_11e9_b34e_001a7dda7113row11_col15 {\n",
       "            background-color:  #f4c9d2;\n",
       "            max-width:  80px;\n",
       "            font-size:  10pt;\n",
       "        }    #T_a89059e4_7e23_11e9_b34e_001a7dda7113row12_col0 {\n",
       "            background-color:  #f2f2f2;\n",
       "            max-width:  80px;\n",
       "            font-size:  10pt;\n",
       "        }    #T_a89059e4_7e23_11e9_b34e_001a7dda7113row12_col1 {\n",
       "            background-color:  #fae8ec;\n",
       "            max-width:  80px;\n",
       "            font-size:  10pt;\n",
       "        }    #T_a89059e4_7e23_11e9_b34e_001a7dda7113row12_col2 {\n",
       "            background-color:  #e2eaf4;\n",
       "            max-width:  80px;\n",
       "            font-size:  10pt;\n",
       "        }    #T_a89059e4_7e23_11e9_b34e_001a7dda7113row12_col3 {\n",
       "            background-color:  #f9e2e6;\n",
       "            max-width:  80px;\n",
       "            font-size:  10pt;\n",
       "        }    #T_a89059e4_7e23_11e9_b34e_001a7dda7113row12_col4 {\n",
       "            background-color:  #f2f2f2;\n",
       "            max-width:  80px;\n",
       "            font-size:  10pt;\n",
       "        }    #T_a89059e4_7e23_11e9_b34e_001a7dda7113row12_col5 {\n",
       "            background-color:  #e16c84;\n",
       "            max-width:  80px;\n",
       "            font-size:  10pt;\n",
       "        }    #T_a89059e4_7e23_11e9_b34e_001a7dda7113row12_col6 {\n",
       "            background-color:  #eb9bab;\n",
       "            max-width:  80px;\n",
       "            font-size:  10pt;\n",
       "        }    #T_a89059e4_7e23_11e9_b34e_001a7dda7113row12_col7 {\n",
       "            background-color:  #ea96a7;\n",
       "            max-width:  80px;\n",
       "            font-size:  10pt;\n",
       "        }    #T_a89059e4_7e23_11e9_b34e_001a7dda7113row12_col8 {\n",
       "            background-color:  #e994a5;\n",
       "            max-width:  80px;\n",
       "            font-size:  10pt;\n",
       "        }    #T_a89059e4_7e23_11e9_b34e_001a7dda7113row12_col9 {\n",
       "            background-color:  #5485c1;\n",
       "            max-width:  80px;\n",
       "            font-size:  10pt;\n",
       "        }    #T_a89059e4_7e23_11e9_b34e_001a7dda7113row12_col10 {\n",
       "            background-color:  #f8dfe4;\n",
       "            max-width:  80px;\n",
       "            font-size:  10pt;\n",
       "        }    #T_a89059e4_7e23_11e9_b34e_001a7dda7113row12_col11 {\n",
       "            background-color:  #d73c5b;\n",
       "            max-width:  80px;\n",
       "            font-size:  10pt;\n",
       "        }    #T_a89059e4_7e23_11e9_b34e_001a7dda7113row12_col12 {\n",
       "            background-color:  #4479bb;\n",
       "            max-width:  80px;\n",
       "            font-size:  10pt;\n",
       "        }    #T_a89059e4_7e23_11e9_b34e_001a7dda7113row12_col13 {\n",
       "            background-color:  #f2f2f2;\n",
       "            max-width:  80px;\n",
       "            font-size:  10pt;\n",
       "        }    #T_a89059e4_7e23_11e9_b34e_001a7dda7113row12_col14 {\n",
       "            background-color:  #fae8ec;\n",
       "            max-width:  80px;\n",
       "            font-size:  10pt;\n",
       "        }    #T_a89059e4_7e23_11e9_b34e_001a7dda7113row12_col15 {\n",
       "            background-color:  #fae7eb;\n",
       "            max-width:  80px;\n",
       "            font-size:  10pt;\n",
       "        }    #T_a89059e4_7e23_11e9_b34e_001a7dda7113row13_col0 {\n",
       "            background-color:  #e7879b;\n",
       "            max-width:  80px;\n",
       "            font-size:  10pt;\n",
       "        }    #T_a89059e4_7e23_11e9_b34e_001a7dda7113row13_col1 {\n",
       "            background-color:  #e7899c;\n",
       "            max-width:  80px;\n",
       "            font-size:  10pt;\n",
       "        }    #T_a89059e4_7e23_11e9_b34e_001a7dda7113row13_col2 {\n",
       "            background-color:  #e16c84;\n",
       "            max-width:  80px;\n",
       "            font-size:  10pt;\n",
       "        }    #T_a89059e4_7e23_11e9_b34e_001a7dda7113row13_col3 {\n",
       "            background-color:  #e3788d;\n",
       "            max-width:  80px;\n",
       "            font-size:  10pt;\n",
       "        }    #T_a89059e4_7e23_11e9_b34e_001a7dda7113row13_col4 {\n",
       "            background-color:  #e7899c;\n",
       "            max-width:  80px;\n",
       "            font-size:  10pt;\n",
       "        }    #T_a89059e4_7e23_11e9_b34e_001a7dda7113row13_col5 {\n",
       "            background-color:  #da4966;\n",
       "            max-width:  80px;\n",
       "            font-size:  10pt;\n",
       "        }    #T_a89059e4_7e23_11e9_b34e_001a7dda7113row13_col6 {\n",
       "            background-color:  #df617a;\n",
       "            max-width:  80px;\n",
       "            font-size:  10pt;\n",
       "        }    #T_a89059e4_7e23_11e9_b34e_001a7dda7113row13_col7 {\n",
       "            background-color:  #de5b75;\n",
       "            max-width:  80px;\n",
       "            font-size:  10pt;\n",
       "        }    #T_a89059e4_7e23_11e9_b34e_001a7dda7113row13_col8 {\n",
       "            background-color:  #de5c76;\n",
       "            max-width:  80px;\n",
       "            font-size:  10pt;\n",
       "        }    #T_a89059e4_7e23_11e9_b34e_001a7dda7113row13_col9 {\n",
       "            background-color:  #e3748a;\n",
       "            max-width:  80px;\n",
       "            font-size:  10pt;\n",
       "        }    #T_a89059e4_7e23_11e9_b34e_001a7dda7113row13_col10 {\n",
       "            background-color:  #d73c5b;\n",
       "            max-width:  80px;\n",
       "            font-size:  10pt;\n",
       "        }    #T_a89059e4_7e23_11e9_b34e_001a7dda7113row13_col11 {\n",
       "            background-color:  #dd5671;\n",
       "            max-width:  80px;\n",
       "            font-size:  10pt;\n",
       "        }    #T_a89059e4_7e23_11e9_b34e_001a7dda7113row13_col12 {\n",
       "            background-color:  #e88ea0;\n",
       "            max-width:  80px;\n",
       "            font-size:  10pt;\n",
       "        }    #T_a89059e4_7e23_11e9_b34e_001a7dda7113row13_col13 {\n",
       "            background-color:  #4479bb;\n",
       "            max-width:  80px;\n",
       "            font-size:  10pt;\n",
       "        }    #T_a89059e4_7e23_11e9_b34e_001a7dda7113row13_col14 {\n",
       "            background-color:  #e26f86;\n",
       "            max-width:  80px;\n",
       "            font-size:  10pt;\n",
       "        }    #T_a89059e4_7e23_11e9_b34e_001a7dda7113row13_col15 {\n",
       "            background-color:  #e26f86;\n",
       "            max-width:  80px;\n",
       "            font-size:  10pt;\n",
       "        }    #T_a89059e4_7e23_11e9_b34e_001a7dda7113row14_col0 {\n",
       "            background-color:  #db4d69;\n",
       "            max-width:  80px;\n",
       "            font-size:  10pt;\n",
       "        }    #T_a89059e4_7e23_11e9_b34e_001a7dda7113row14_col1 {\n",
       "            background-color:  #db4d69;\n",
       "            max-width:  80px;\n",
       "            font-size:  10pt;\n",
       "        }    #T_a89059e4_7e23_11e9_b34e_001a7dda7113row14_col2 {\n",
       "            background-color:  #df617a;\n",
       "            max-width:  80px;\n",
       "            font-size:  10pt;\n",
       "        }    #T_a89059e4_7e23_11e9_b34e_001a7dda7113row14_col3 {\n",
       "            background-color:  #dd5a74;\n",
       "            max-width:  80px;\n",
       "            font-size:  10pt;\n",
       "        }    #T_a89059e4_7e23_11e9_b34e_001a7dda7113row14_col4 {\n",
       "            background-color:  #de5b75;\n",
       "            max-width:  80px;\n",
       "            font-size:  10pt;\n",
       "        }    #T_a89059e4_7e23_11e9_b34e_001a7dda7113row14_col5 {\n",
       "            background-color:  #dc516d;\n",
       "            max-width:  80px;\n",
       "            font-size:  10pt;\n",
       "        }    #T_a89059e4_7e23_11e9_b34e_001a7dda7113row14_col6 {\n",
       "            background-color:  #dc516d;\n",
       "            max-width:  80px;\n",
       "            font-size:  10pt;\n",
       "        }    #T_a89059e4_7e23_11e9_b34e_001a7dda7113row14_col7 {\n",
       "            background-color:  #db4f6b;\n",
       "            max-width:  80px;\n",
       "            font-size:  10pt;\n",
       "        }    #T_a89059e4_7e23_11e9_b34e_001a7dda7113row14_col8 {\n",
       "            background-color:  #db4e6a;\n",
       "            max-width:  80px;\n",
       "            font-size:  10pt;\n",
       "        }    #T_a89059e4_7e23_11e9_b34e_001a7dda7113row14_col9 {\n",
       "            background-color:  #e47c91;\n",
       "            max-width:  80px;\n",
       "            font-size:  10pt;\n",
       "        }    #T_a89059e4_7e23_11e9_b34e_001a7dda7113row14_col10 {\n",
       "            background-color:  #e68699;\n",
       "            max-width:  80px;\n",
       "            font-size:  10pt;\n",
       "        }    #T_a89059e4_7e23_11e9_b34e_001a7dda7113row14_col11 {\n",
       "            background-color:  #d73c5b;\n",
       "            max-width:  80px;\n",
       "            font-size:  10pt;\n",
       "        }    #T_a89059e4_7e23_11e9_b34e_001a7dda7113row14_col12 {\n",
       "            background-color:  #e16d85;\n",
       "            max-width:  80px;\n",
       "            font-size:  10pt;\n",
       "        }    #T_a89059e4_7e23_11e9_b34e_001a7dda7113row14_col13 {\n",
       "            background-color:  #dd5671;\n",
       "            max-width:  80px;\n",
       "            font-size:  10pt;\n",
       "        }    #T_a89059e4_7e23_11e9_b34e_001a7dda7113row14_col14 {\n",
       "            background-color:  #4479bb;\n",
       "            max-width:  80px;\n",
       "            font-size:  10pt;\n",
       "        }    #T_a89059e4_7e23_11e9_b34e_001a7dda7113row14_col15 {\n",
       "            background-color:  #f2f2f2;\n",
       "            max-width:  80px;\n",
       "            font-size:  10pt;\n",
       "        }    #T_a89059e4_7e23_11e9_b34e_001a7dda7113row15_col0 {\n",
       "            background-color:  #d94764;\n",
       "            max-width:  80px;\n",
       "            font-size:  10pt;\n",
       "        }    #T_a89059e4_7e23_11e9_b34e_001a7dda7113row15_col1 {\n",
       "            background-color:  #d94563;\n",
       "            max-width:  80px;\n",
       "            font-size:  10pt;\n",
       "        }    #T_a89059e4_7e23_11e9_b34e_001a7dda7113row15_col2 {\n",
       "            background-color:  #e0657d;\n",
       "            max-width:  80px;\n",
       "            font-size:  10pt;\n",
       "        }    #T_a89059e4_7e23_11e9_b34e_001a7dda7113row15_col3 {\n",
       "            background-color:  #dd5872;\n",
       "            max-width:  80px;\n",
       "            font-size:  10pt;\n",
       "        }    #T_a89059e4_7e23_11e9_b34e_001a7dda7113row15_col4 {\n",
       "            background-color:  #de5b75;\n",
       "            max-width:  80px;\n",
       "            font-size:  10pt;\n",
       "        }    #T_a89059e4_7e23_11e9_b34e_001a7dda7113row15_col5 {\n",
       "            background-color:  #dc526e;\n",
       "            max-width:  80px;\n",
       "            font-size:  10pt;\n",
       "        }    #T_a89059e4_7e23_11e9_b34e_001a7dda7113row15_col6 {\n",
       "            background-color:  #da4b68;\n",
       "            max-width:  80px;\n",
       "            font-size:  10pt;\n",
       "        }    #T_a89059e4_7e23_11e9_b34e_001a7dda7113row15_col7 {\n",
       "            background-color:  #d94764;\n",
       "            max-width:  80px;\n",
       "            font-size:  10pt;\n",
       "        }    #T_a89059e4_7e23_11e9_b34e_001a7dda7113row15_col8 {\n",
       "            background-color:  #da4865;\n",
       "            max-width:  80px;\n",
       "            font-size:  10pt;\n",
       "        }    #T_a89059e4_7e23_11e9_b34e_001a7dda7113row15_col9 {\n",
       "            background-color:  #e57d92;\n",
       "            max-width:  80px;\n",
       "            font-size:  10pt;\n",
       "        }    #T_a89059e4_7e23_11e9_b34e_001a7dda7113row15_col10 {\n",
       "            background-color:  #e88d9f;\n",
       "            max-width:  80px;\n",
       "            font-size:  10pt;\n",
       "        }    #T_a89059e4_7e23_11e9_b34e_001a7dda7113row15_col11 {\n",
       "            background-color:  #d73c5b;\n",
       "            max-width:  80px;\n",
       "            font-size:  10pt;\n",
       "        }    #T_a89059e4_7e23_11e9_b34e_001a7dda7113row15_col12 {\n",
       "            background-color:  #e16c84;\n",
       "            max-width:  80px;\n",
       "            font-size:  10pt;\n",
       "        }    #T_a89059e4_7e23_11e9_b34e_001a7dda7113row15_col13 {\n",
       "            background-color:  #dd5872;\n",
       "            max-width:  80px;\n",
       "            font-size:  10pt;\n",
       "        }    #T_a89059e4_7e23_11e9_b34e_001a7dda7113row15_col14 {\n",
       "            background-color:  #f2f2f2;\n",
       "            max-width:  80px;\n",
       "            font-size:  10pt;\n",
       "        }    #T_a89059e4_7e23_11e9_b34e_001a7dda7113row15_col15 {\n",
       "            background-color:  #4479bb;\n",
       "            max-width:  80px;\n",
       "            font-size:  10pt;\n",
       "        }</style>  \n",
       "<table id=\"T_a89059e4_7e23_11e9_b34e_001a7dda7113\" ><caption>Hover to magify</caption> \n",
       "<thead>    <tr> \n",
       "        <th class=\"blank level0\" ></th> \n",
       "        <th class=\"col_heading level0 col0\" >No</th> \n",
       "        <th class=\"col_heading level0 col1\" >year</th> \n",
       "        <th class=\"col_heading level0 col2\" >month</th> \n",
       "        <th class=\"col_heading level0 col3\" >day</th> \n",
       "        <th class=\"col_heading level0 col4\" >hour</th> \n",
       "        <th class=\"col_heading level0 col5\" >season</th> \n",
       "        <th class=\"col_heading level0 col6\" >PM_Taiyuanjie</th> \n",
       "        <th class=\"col_heading level0 col7\" >PM_US Post</th> \n",
       "        <th class=\"col_heading level0 col8\" >PM_Xiaoheyan</th> \n",
       "        <th class=\"col_heading level0 col9\" >DEWP</th> \n",
       "        <th class=\"col_heading level0 col10\" >HUMI</th> \n",
       "        <th class=\"col_heading level0 col11\" >PRES</th> \n",
       "        <th class=\"col_heading level0 col12\" >TEMP</th> \n",
       "        <th class=\"col_heading level0 col13\" >Iws</th> \n",
       "        <th class=\"col_heading level0 col14\" >precipitation</th> \n",
       "        <th class=\"col_heading level0 col15\" >Iprec</th> \n",
       "    </tr></thead> \n",
       "<tbody>    <tr> \n",
       "        <th id=\"T_a89059e4_7e23_11e9_b34e_001a7dda7113level0_row0\" class=\"row_heading level0 row0\" >No</th> \n",
       "        <td id=\"T_a89059e4_7e23_11e9_b34e_001a7dda7113row0_col0\" class=\"data row0 col0\" >1</td> \n",
       "        <td id=\"T_a89059e4_7e23_11e9_b34e_001a7dda7113row0_col1\" class=\"data row0 col1\" >0.99</td> \n",
       "        <td id=\"T_a89059e4_7e23_11e9_b34e_001a7dda7113row0_col2\" class=\"data row0 col2\" >0.17</td> \n",
       "        <td id=\"T_a89059e4_7e23_11e9_b34e_001a7dda7113row0_col3\" class=\"data row0 col3\" >0.016</td> \n",
       "        <td id=\"T_a89059e4_7e23_11e9_b34e_001a7dda7113row0_col4\" class=\"data row0 col4\" >0.00046</td> \n",
       "        <td id=\"T_a89059e4_7e23_11e9_b34e_001a7dda7113row0_col5\" class=\"data row0 col5\" >0.035</td> \n",
       "        <td id=\"T_a89059e4_7e23_11e9_b34e_001a7dda7113row0_col6\" class=\"data row0 col6\" >-0.076</td> \n",
       "        <td id=\"T_a89059e4_7e23_11e9_b34e_001a7dda7113row0_col7\" class=\"data row0 col7\" >0.094</td> \n",
       "        <td id=\"T_a89059e4_7e23_11e9_b34e_001a7dda7113row0_col8\" class=\"data row0 col8\" >-0.064</td> \n",
       "        <td id=\"T_a89059e4_7e23_11e9_b34e_001a7dda7113row0_col9\" class=\"data row0 col9\" >0.049</td> \n",
       "        <td id=\"T_a89059e4_7e23_11e9_b34e_001a7dda7113row0_col10\" class=\"data row0 col10\" >-0.067</td> \n",
       "        <td id=\"T_a89059e4_7e23_11e9_b34e_001a7dda7113row0_col11\" class=\"data row0 col11\" >-0.014</td> \n",
       "        <td id=\"T_a89059e4_7e23_11e9_b34e_001a7dda7113row0_col12\" class=\"data row0 col12\" >0.086</td> \n",
       "        <td id=\"T_a89059e4_7e23_11e9_b34e_001a7dda7113row0_col13\" class=\"data row0 col13\" >0.062</td> \n",
       "        <td id=\"T_a89059e4_7e23_11e9_b34e_001a7dda7113row0_col14\" class=\"data row0 col14\" >-0.045</td> \n",
       "        <td id=\"T_a89059e4_7e23_11e9_b34e_001a7dda7113row0_col15\" class=\"data row0 col15\" >-0.065</td> \n",
       "    </tr>    <tr> \n",
       "        <th id=\"T_a89059e4_7e23_11e9_b34e_001a7dda7113level0_row1\" class=\"row_heading level0 row1\" >year</th> \n",
       "        <td id=\"T_a89059e4_7e23_11e9_b34e_001a7dda7113row1_col0\" class=\"data row1 col0\" >0.99</td> \n",
       "        <td id=\"T_a89059e4_7e23_11e9_b34e_001a7dda7113row1_col1\" class=\"data row1 col1\" >1</td> \n",
       "        <td id=\"T_a89059e4_7e23_11e9_b34e_001a7dda7113row1_col2\" class=\"data row1 col2\" >0.00018</td> \n",
       "        <td id=\"T_a89059e4_7e23_11e9_b34e_001a7dda7113row1_col3\" class=\"data row1 col3\" >-0.0002</td> \n",
       "        <td id=\"T_a89059e4_7e23_11e9_b34e_001a7dda7113row1_col4\" class=\"data row1 col4\" >0</td> \n",
       "        <td id=\"T_a89059e4_7e23_11e9_b34e_001a7dda7113row1_col5\" class=\"data row1 col5\" >-0.00018</td> \n",
       "        <td id=\"T_a89059e4_7e23_11e9_b34e_001a7dda7113row1_col6\" class=\"data row1 col6\" >-0.06</td> \n",
       "        <td id=\"T_a89059e4_7e23_11e9_b34e_001a7dda7113row1_col7\" class=\"data row1 col7\" >0.065</td> \n",
       "        <td id=\"T_a89059e4_7e23_11e9_b34e_001a7dda7113row1_col8\" class=\"data row1 col8\" >-0.059</td> \n",
       "        <td id=\"T_a89059e4_7e23_11e9_b34e_001a7dda7113row1_col9\" class=\"data row1 col9\" >0.0074</td> \n",
       "        <td id=\"T_a89059e4_7e23_11e9_b34e_001a7dda7113row1_col10\" class=\"data row1 col10\" >-0.099</td> \n",
       "        <td id=\"T_a89059e4_7e23_11e9_b34e_001a7dda7113row1_col11\" class=\"data row1 col11\" >-0.0039</td> \n",
       "        <td id=\"T_a89059e4_7e23_11e9_b34e_001a7dda7113row1_col12\" class=\"data row1 col12\" >0.055</td> \n",
       "        <td id=\"T_a89059e4_7e23_11e9_b34e_001a7dda7113row1_col13\" class=\"data row1 col13\" >0.067</td> \n",
       "        <td id=\"T_a89059e4_7e23_11e9_b34e_001a7dda7113row1_col14\" class=\"data row1 col14\" >-0.047</td> \n",
       "        <td id=\"T_a89059e4_7e23_11e9_b34e_001a7dda7113row1_col15\" class=\"data row1 col15\" >-0.068</td> \n",
       "    </tr>    <tr> \n",
       "        <th id=\"T_a89059e4_7e23_11e9_b34e_001a7dda7113level0_row2\" class=\"row_heading level0 row2\" >month</th> \n",
       "        <td id=\"T_a89059e4_7e23_11e9_b34e_001a7dda7113row2_col0\" class=\"data row2 col0\" >0.17</td> \n",
       "        <td id=\"T_a89059e4_7e23_11e9_b34e_001a7dda7113row2_col1\" class=\"data row2 col1\" >0.00018</td> \n",
       "        <td id=\"T_a89059e4_7e23_11e9_b34e_001a7dda7113row2_col2\" class=\"data row2 col2\" >1</td> \n",
       "        <td id=\"T_a89059e4_7e23_11e9_b34e_001a7dda7113row2_col3\" class=\"data row2 col3\" >0.011</td> \n",
       "        <td id=\"T_a89059e4_7e23_11e9_b34e_001a7dda7113row2_col4\" class=\"data row2 col4\" >-2.6e-19</td> \n",
       "        <td id=\"T_a89059e4_7e23_11e9_b34e_001a7dda7113row2_col5\" class=\"data row2 col5\" >0.21</td> \n",
       "        <td id=\"T_a89059e4_7e23_11e9_b34e_001a7dda7113row2_col6\" class=\"data row2 col6\" >-0.063</td> \n",
       "        <td id=\"T_a89059e4_7e23_11e9_b34e_001a7dda7113row2_col7\" class=\"data row2 col7\" >0.068</td> \n",
       "        <td id=\"T_a89059e4_7e23_11e9_b34e_001a7dda7113row2_col8\" class=\"data row2 col8\" >-0.033</td> \n",
       "        <td id=\"T_a89059e4_7e23_11e9_b34e_001a7dda7113row2_col9\" class=\"data row2 col9\" >0.25</td> \n",
       "        <td id=\"T_a89059e4_7e23_11e9_b34e_001a7dda7113row2_col10\" class=\"data row2 col10\" >0.18</td> \n",
       "        <td id=\"T_a89059e4_7e23_11e9_b34e_001a7dda7113row2_col11\" class=\"data row2 col11\" >-0.061</td> \n",
       "        <td id=\"T_a89059e4_7e23_11e9_b34e_001a7dda7113row2_col12\" class=\"data row2 col12\" >0.19</td> \n",
       "        <td id=\"T_a89059e4_7e23_11e9_b34e_001a7dda7113row2_col13\" class=\"data row2 col13\" >-0.025</td> \n",
       "        <td id=\"T_a89059e4_7e23_11e9_b34e_001a7dda7113row2_col14\" class=\"data row2 col14\" >0.016</td> \n",
       "        <td id=\"T_a89059e4_7e23_11e9_b34e_001a7dda7113row2_col15\" class=\"data row2 col15\" >0.024</td> \n",
       "    </tr>    <tr> \n",
       "        <th id=\"T_a89059e4_7e23_11e9_b34e_001a7dda7113level0_row3\" class=\"row_heading level0 row3\" >day</th> \n",
       "        <td id=\"T_a89059e4_7e23_11e9_b34e_001a7dda7113row3_col0\" class=\"data row3 col0\" >0.016</td> \n",
       "        <td id=\"T_a89059e4_7e23_11e9_b34e_001a7dda7113row3_col1\" class=\"data row3 col1\" >-0.0002</td> \n",
       "        <td id=\"T_a89059e4_7e23_11e9_b34e_001a7dda7113row3_col2\" class=\"data row3 col2\" >0.011</td> \n",
       "        <td id=\"T_a89059e4_7e23_11e9_b34e_001a7dda7113row3_col3\" class=\"data row3 col3\" >1</td> \n",
       "        <td id=\"T_a89059e4_7e23_11e9_b34e_001a7dda7113row3_col4\" class=\"data row3 col4\" >4.7e-18</td> \n",
       "        <td id=\"T_a89059e4_7e23_11e9_b34e_001a7dda7113row3_col5\" class=\"data row3 col5\" >-0.013</td> \n",
       "        <td id=\"T_a89059e4_7e23_11e9_b34e_001a7dda7113row3_col6\" class=\"data row3 col6\" >0.086</td> \n",
       "        <td id=\"T_a89059e4_7e23_11e9_b34e_001a7dda7113row3_col7\" class=\"data row3 col7\" >0.083</td> \n",
       "        <td id=\"T_a89059e4_7e23_11e9_b34e_001a7dda7113row3_col8\" class=\"data row3 col8\" >0.079</td> \n",
       "        <td id=\"T_a89059e4_7e23_11e9_b34e_001a7dda7113row3_col9\" class=\"data row3 col9\" >0.023</td> \n",
       "        <td id=\"T_a89059e4_7e23_11e9_b34e_001a7dda7113row3_col10\" class=\"data row3 col10\" >0.011</td> \n",
       "        <td id=\"T_a89059e4_7e23_11e9_b34e_001a7dda7113row3_col11\" class=\"data row3 col11\" >0.0014</td> \n",
       "        <td id=\"T_a89059e4_7e23_11e9_b34e_001a7dda7113row3_col12\" class=\"data row3 col12\" >0.022</td> \n",
       "        <td id=\"T_a89059e4_7e23_11e9_b34e_001a7dda7113row3_col13\" class=\"data row3 col13\" >0.012</td> \n",
       "        <td id=\"T_a89059e4_7e23_11e9_b34e_001a7dda7113row3_col14\" class=\"data row3 col14\" >-0.0076</td> \n",
       "        <td id=\"T_a89059e4_7e23_11e9_b34e_001a7dda7113row3_col15\" class=\"data row3 col15\" >-0.013</td> \n",
       "    </tr>    <tr> \n",
       "        <th id=\"T_a89059e4_7e23_11e9_b34e_001a7dda7113level0_row4\" class=\"row_heading level0 row4\" >hour</th> \n",
       "        <td id=\"T_a89059e4_7e23_11e9_b34e_001a7dda7113row4_col0\" class=\"data row4 col0\" >0.00046</td> \n",
       "        <td id=\"T_a89059e4_7e23_11e9_b34e_001a7dda7113row4_col1\" class=\"data row4 col1\" >0</td> \n",
       "        <td id=\"T_a89059e4_7e23_11e9_b34e_001a7dda7113row4_col2\" class=\"data row4 col2\" >-2.6e-19</td> \n",
       "        <td id=\"T_a89059e4_7e23_11e9_b34e_001a7dda7113row4_col3\" class=\"data row4 col3\" >4.7e-18</td> \n",
       "        <td id=\"T_a89059e4_7e23_11e9_b34e_001a7dda7113row4_col4\" class=\"data row4 col4\" >1</td> \n",
       "        <td id=\"T_a89059e4_7e23_11e9_b34e_001a7dda7113row4_col5\" class=\"data row4 col5\" >-3.8e-17</td> \n",
       "        <td id=\"T_a89059e4_7e23_11e9_b34e_001a7dda7113row4_col6\" class=\"data row4 col6\" >-0.053</td> \n",
       "        <td id=\"T_a89059e4_7e23_11e9_b34e_001a7dda7113row4_col7\" class=\"data row4 col7\" >-0.072</td> \n",
       "        <td id=\"T_a89059e4_7e23_11e9_b34e_001a7dda7113row4_col8\" class=\"data row4 col8\" >-0.056</td> \n",
       "        <td id=\"T_a89059e4_7e23_11e9_b34e_001a7dda7113row4_col9\" class=\"data row4 col9\" >0.0034</td> \n",
       "        <td id=\"T_a89059e4_7e23_11e9_b34e_001a7dda7113row4_col10\" class=\"data row4 col10\" >-0.24</td> \n",
       "        <td id=\"T_a89059e4_7e23_11e9_b34e_001a7dda7113row4_col11\" class=\"data row4 col11\" >-0.021</td> \n",
       "        <td id=\"T_a89059e4_7e23_11e9_b34e_001a7dda7113row4_col12\" class=\"data row4 col12\" >0.1</td> \n",
       "        <td id=\"T_a89059e4_7e23_11e9_b34e_001a7dda7113row4_col13\" class=\"data row4 col13\" >0.068</td> \n",
       "        <td id=\"T_a89059e4_7e23_11e9_b34e_001a7dda7113row4_col14\" class=\"data row4 col14\" >-0.003</td> \n",
       "        <td id=\"T_a89059e4_7e23_11e9_b34e_001a7dda7113row4_col15\" class=\"data row4 col15\" >-0.0045</td> \n",
       "    </tr>    <tr> \n",
       "        <th id=\"T_a89059e4_7e23_11e9_b34e_001a7dda7113level0_row5\" class=\"row_heading level0 row5\" >season</th> \n",
       "        <td id=\"T_a89059e4_7e23_11e9_b34e_001a7dda7113row5_col0\" class=\"data row5 col0\" >0.035</td> \n",
       "        <td id=\"T_a89059e4_7e23_11e9_b34e_001a7dda7113row5_col1\" class=\"data row5 col1\" >-0.00018</td> \n",
       "        <td id=\"T_a89059e4_7e23_11e9_b34e_001a7dda7113row5_col2\" class=\"data row5 col2\" >0.21</td> \n",
       "        <td id=\"T_a89059e4_7e23_11e9_b34e_001a7dda7113row5_col3\" class=\"data row5 col3\" >-0.013</td> \n",
       "        <td id=\"T_a89059e4_7e23_11e9_b34e_001a7dda7113row5_col4\" class=\"data row5 col4\" >-3.8e-17</td> \n",
       "        <td id=\"T_a89059e4_7e23_11e9_b34e_001a7dda7113row5_col5\" class=\"data row5 col5\" >1</td> \n",
       "        <td id=\"T_a89059e4_7e23_11e9_b34e_001a7dda7113row5_col6\" class=\"data row5 col6\" >0.25</td> \n",
       "        <td id=\"T_a89059e4_7e23_11e9_b34e_001a7dda7113row5_col7\" class=\"data row5 col7\" >0.27</td> \n",
       "        <td id=\"T_a89059e4_7e23_11e9_b34e_001a7dda7113row5_col8\" class=\"data row5 col8\" >0.28</td> \n",
       "        <td id=\"T_a89059e4_7e23_11e9_b34e_001a7dda7113row5_col9\" class=\"data row5 col9\" >-0.45</td> \n",
       "        <td id=\"T_a89059e4_7e23_11e9_b34e_001a7dda7113row5_col10\" class=\"data row5 col10\" >0.11</td> \n",
       "        <td id=\"T_a89059e4_7e23_11e9_b34e_001a7dda7113row5_col11\" class=\"data row5 col11\" >0.56</td> \n",
       "        <td id=\"T_a89059e4_7e23_11e9_b34e_001a7dda7113row5_col12\" class=\"data row5 col12\" >-0.56</td> \n",
       "        <td id=\"T_a89059e4_7e23_11e9_b34e_001a7dda7113row5_col13\" class=\"data row5 col13\" >-0.14</td> \n",
       "        <td id=\"T_a89059e4_7e23_11e9_b34e_001a7dda7113row5_col14\" class=\"data row5 col14\" >-0.031</td> \n",
       "        <td id=\"T_a89059e4_7e23_11e9_b34e_001a7dda7113row5_col15\" class=\"data row5 col15\" >-0.029</td> \n",
       "    </tr>    <tr> \n",
       "        <th id=\"T_a89059e4_7e23_11e9_b34e_001a7dda7113level0_row6\" class=\"row_heading level0 row6\" >PM_Taiyuanjie</th> \n",
       "        <td id=\"T_a89059e4_7e23_11e9_b34e_001a7dda7113row6_col0\" class=\"data row6 col0\" >-0.076</td> \n",
       "        <td id=\"T_a89059e4_7e23_11e9_b34e_001a7dda7113row6_col1\" class=\"data row6 col1\" >-0.06</td> \n",
       "        <td id=\"T_a89059e4_7e23_11e9_b34e_001a7dda7113row6_col2\" class=\"data row6 col2\" >-0.063</td> \n",
       "        <td id=\"T_a89059e4_7e23_11e9_b34e_001a7dda7113row6_col3\" class=\"data row6 col3\" >0.086</td> \n",
       "        <td id=\"T_a89059e4_7e23_11e9_b34e_001a7dda7113row6_col4\" class=\"data row6 col4\" >-0.053</td> \n",
       "        <td id=\"T_a89059e4_7e23_11e9_b34e_001a7dda7113row6_col5\" class=\"data row6 col5\" >0.25</td> \n",
       "        <td id=\"T_a89059e4_7e23_11e9_b34e_001a7dda7113row6_col6\" class=\"data row6 col6\" >1</td> \n",
       "        <td id=\"T_a89059e4_7e23_11e9_b34e_001a7dda7113row6_col7\" class=\"data row6 col7\" >0.92</td> \n",
       "        <td id=\"T_a89059e4_7e23_11e9_b34e_001a7dda7113row6_col8\" class=\"data row6 col8\" >0.92</td> \n",
       "        <td id=\"T_a89059e4_7e23_11e9_b34e_001a7dda7113row6_col9\" class=\"data row6 col9\" >-0.21</td> \n",
       "        <td id=\"T_a89059e4_7e23_11e9_b34e_001a7dda7113row6_col10\" class=\"data row6 col10\" >0.2</td> \n",
       "        <td id=\"T_a89059e4_7e23_11e9_b34e_001a7dda7113row6_col11\" class=\"data row6 col11\" >0.3</td> \n",
       "        <td id=\"T_a89059e4_7e23_11e9_b34e_001a7dda7113row6_col12\" class=\"data row6 col12\" >-0.32</td> \n",
       "        <td id=\"T_a89059e4_7e23_11e9_b34e_001a7dda7113row6_col13\" class=\"data row6 col13\" >-0.06</td> \n",
       "        <td id=\"T_a89059e4_7e23_11e9_b34e_001a7dda7113row6_col14\" class=\"data row6 col14\" >-0.033</td> \n",
       "        <td id=\"T_a89059e4_7e23_11e9_b34e_001a7dda7113row6_col15\" class=\"data row6 col15\" >-0.05</td> \n",
       "    </tr>    <tr> \n",
       "        <th id=\"T_a89059e4_7e23_11e9_b34e_001a7dda7113level0_row7\" class=\"row_heading level0 row7\" >PM_US Post</th> \n",
       "        <td id=\"T_a89059e4_7e23_11e9_b34e_001a7dda7113row7_col0\" class=\"data row7 col0\" >0.094</td> \n",
       "        <td id=\"T_a89059e4_7e23_11e9_b34e_001a7dda7113row7_col1\" class=\"data row7 col1\" >0.065</td> \n",
       "        <td id=\"T_a89059e4_7e23_11e9_b34e_001a7dda7113row7_col2\" class=\"data row7 col2\" >0.068</td> \n",
       "        <td id=\"T_a89059e4_7e23_11e9_b34e_001a7dda7113row7_col3\" class=\"data row7 col3\" >0.083</td> \n",
       "        <td id=\"T_a89059e4_7e23_11e9_b34e_001a7dda7113row7_col4\" class=\"data row7 col4\" >-0.072</td> \n",
       "        <td id=\"T_a89059e4_7e23_11e9_b34e_001a7dda7113row7_col5\" class=\"data row7 col5\" >0.27</td> \n",
       "        <td id=\"T_a89059e4_7e23_11e9_b34e_001a7dda7113row7_col6\" class=\"data row7 col6\" >0.92</td> \n",
       "        <td id=\"T_a89059e4_7e23_11e9_b34e_001a7dda7113row7_col7\" class=\"data row7 col7\" >1</td> \n",
       "        <td id=\"T_a89059e4_7e23_11e9_b34e_001a7dda7113row7_col8\" class=\"data row7 col8\" >0.92</td> \n",
       "        <td id=\"T_a89059e4_7e23_11e9_b34e_001a7dda7113row7_col9\" class=\"data row7 col9\" >-0.24</td> \n",
       "        <td id=\"T_a89059e4_7e23_11e9_b34e_001a7dda7113row7_col10\" class=\"data row7 col10\" >0.2</td> \n",
       "        <td id=\"T_a89059e4_7e23_11e9_b34e_001a7dda7113row7_col11\" class=\"data row7 col11\" >0.37</td> \n",
       "        <td id=\"T_a89059e4_7e23_11e9_b34e_001a7dda7113row7_col12\" class=\"data row7 col12\" >-0.36</td> \n",
       "        <td id=\"T_a89059e4_7e23_11e9_b34e_001a7dda7113row7_col13\" class=\"data row7 col13\" >-0.078</td> \n",
       "        <td id=\"T_a89059e4_7e23_11e9_b34e_001a7dda7113row7_col14\" class=\"data row7 col14\" >-0.036</td> \n",
       "        <td id=\"T_a89059e4_7e23_11e9_b34e_001a7dda7113row7_col15\" class=\"data row7 col15\" >-0.064</td> \n",
       "    </tr>    <tr> \n",
       "        <th id=\"T_a89059e4_7e23_11e9_b34e_001a7dda7113level0_row8\" class=\"row_heading level0 row8\" >PM_Xiaoheyan</th> \n",
       "        <td id=\"T_a89059e4_7e23_11e9_b34e_001a7dda7113row8_col0\" class=\"data row8 col0\" >-0.064</td> \n",
       "        <td id=\"T_a89059e4_7e23_11e9_b34e_001a7dda7113row8_col1\" class=\"data row8 col1\" >-0.059</td> \n",
       "        <td id=\"T_a89059e4_7e23_11e9_b34e_001a7dda7113row8_col2\" class=\"data row8 col2\" >-0.033</td> \n",
       "        <td id=\"T_a89059e4_7e23_11e9_b34e_001a7dda7113row8_col3\" class=\"data row8 col3\" >0.079</td> \n",
       "        <td id=\"T_a89059e4_7e23_11e9_b34e_001a7dda7113row8_col4\" class=\"data row8 col4\" >-0.056</td> \n",
       "        <td id=\"T_a89059e4_7e23_11e9_b34e_001a7dda7113row8_col5\" class=\"data row8 col5\" >0.28</td> \n",
       "        <td id=\"T_a89059e4_7e23_11e9_b34e_001a7dda7113row8_col6\" class=\"data row8 col6\" >0.92</td> \n",
       "        <td id=\"T_a89059e4_7e23_11e9_b34e_001a7dda7113row8_col7\" class=\"data row8 col7\" >0.92</td> \n",
       "        <td id=\"T_a89059e4_7e23_11e9_b34e_001a7dda7113row8_col8\" class=\"data row8 col8\" >1</td> \n",
       "        <td id=\"T_a89059e4_7e23_11e9_b34e_001a7dda7113row8_col9\" class=\"data row8 col9\" >-0.25</td> \n",
       "        <td id=\"T_a89059e4_7e23_11e9_b34e_001a7dda7113row8_col10\" class=\"data row8 col10\" >0.18</td> \n",
       "        <td id=\"T_a89059e4_7e23_11e9_b34e_001a7dda7113row8_col11\" class=\"data row8 col11\" >0.34</td> \n",
       "        <td id=\"T_a89059e4_7e23_11e9_b34e_001a7dda7113row8_col12\" class=\"data row8 col12\" >-0.36</td> \n",
       "        <td id=\"T_a89059e4_7e23_11e9_b34e_001a7dda7113row8_col13\" class=\"data row8 col13\" >-0.073</td> \n",
       "        <td id=\"T_a89059e4_7e23_11e9_b34e_001a7dda7113row8_col14\" class=\"data row8 col14\" >-0.041</td> \n",
       "        <td id=\"T_a89059e4_7e23_11e9_b34e_001a7dda7113row8_col15\" class=\"data row8 col15\" >-0.059</td> \n",
       "    </tr>    <tr> \n",
       "        <th id=\"T_a89059e4_7e23_11e9_b34e_001a7dda7113level0_row9\" class=\"row_heading level0 row9\" >DEWP</th> \n",
       "        <td id=\"T_a89059e4_7e23_11e9_b34e_001a7dda7113row9_col0\" class=\"data row9 col0\" >0.049</td> \n",
       "        <td id=\"T_a89059e4_7e23_11e9_b34e_001a7dda7113row9_col1\" class=\"data row9 col1\" >0.0074</td> \n",
       "        <td id=\"T_a89059e4_7e23_11e9_b34e_001a7dda7113row9_col2\" class=\"data row9 col2\" >0.25</td> \n",
       "        <td id=\"T_a89059e4_7e23_11e9_b34e_001a7dda7113row9_col3\" class=\"data row9 col3\" >0.023</td> \n",
       "        <td id=\"T_a89059e4_7e23_11e9_b34e_001a7dda7113row9_col4\" class=\"data row9 col4\" >0.0034</td> \n",
       "        <td id=\"T_a89059e4_7e23_11e9_b34e_001a7dda7113row9_col5\" class=\"data row9 col5\" >-0.45</td> \n",
       "        <td id=\"T_a89059e4_7e23_11e9_b34e_001a7dda7113row9_col6\" class=\"data row9 col6\" >-0.21</td> \n",
       "        <td id=\"T_a89059e4_7e23_11e9_b34e_001a7dda7113row9_col7\" class=\"data row9 col7\" >-0.24</td> \n",
       "        <td id=\"T_a89059e4_7e23_11e9_b34e_001a7dda7113row9_col8\" class=\"data row9 col8\" >-0.25</td> \n",
       "        <td id=\"T_a89059e4_7e23_11e9_b34e_001a7dda7113row9_col9\" class=\"data row9 col9\" >1</td> \n",
       "        <td id=\"T_a89059e4_7e23_11e9_b34e_001a7dda7113row9_col10\" class=\"data row9 col10\" >0.41</td> \n",
       "        <td id=\"T_a89059e4_7e23_11e9_b34e_001a7dda7113row9_col11\" class=\"data row9 col11\" >-0.8</td> \n",
       "        <td id=\"T_a89059e4_7e23_11e9_b34e_001a7dda7113row9_col12\" class=\"data row9 col12\" >0.91</td> \n",
       "        <td id=\"T_a89059e4_7e23_11e9_b34e_001a7dda7113row9_col13\" class=\"data row9 col13\" >0.0033</td> \n",
       "        <td id=\"T_a89059e4_7e23_11e9_b34e_001a7dda7113row9_col14\" class=\"data row9 col14\" >0.098</td> \n",
       "        <td id=\"T_a89059e4_7e23_11e9_b34e_001a7dda7113row9_col15\" class=\"data row9 col15\" >0.1</td> \n",
       "    </tr>    <tr> \n",
       "        <th id=\"T_a89059e4_7e23_11e9_b34e_001a7dda7113level0_row10\" class=\"row_heading level0 row10\" >HUMI</th> \n",
       "        <td id=\"T_a89059e4_7e23_11e9_b34e_001a7dda7113row10_col0\" class=\"data row10 col0\" >-0.067</td> \n",
       "        <td id=\"T_a89059e4_7e23_11e9_b34e_001a7dda7113row10_col1\" class=\"data row10 col1\" >-0.099</td> \n",
       "        <td id=\"T_a89059e4_7e23_11e9_b34e_001a7dda7113row10_col2\" class=\"data row10 col2\" >0.18</td> \n",
       "        <td id=\"T_a89059e4_7e23_11e9_b34e_001a7dda7113row10_col3\" class=\"data row10 col3\" >0.011</td> \n",
       "        <td id=\"T_a89059e4_7e23_11e9_b34e_001a7dda7113row10_col4\" class=\"data row10 col4\" >-0.24</td> \n",
       "        <td id=\"T_a89059e4_7e23_11e9_b34e_001a7dda7113row10_col5\" class=\"data row10 col5\" >0.11</td> \n",
       "        <td id=\"T_a89059e4_7e23_11e9_b34e_001a7dda7113row10_col6\" class=\"data row10 col6\" >0.2</td> \n",
       "        <td id=\"T_a89059e4_7e23_11e9_b34e_001a7dda7113row10_col7\" class=\"data row10 col7\" >0.2</td> \n",
       "        <td id=\"T_a89059e4_7e23_11e9_b34e_001a7dda7113row10_col8\" class=\"data row10 col8\" >0.18</td> \n",
       "        <td id=\"T_a89059e4_7e23_11e9_b34e_001a7dda7113row10_col9\" class=\"data row10 col9\" >0.41</td> \n",
       "        <td id=\"T_a89059e4_7e23_11e9_b34e_001a7dda7113row10_col10\" class=\"data row10 col10\" >1</td> \n",
       "        <td id=\"T_a89059e4_7e23_11e9_b34e_001a7dda7113row10_col11\" class=\"data row10 col11\" >-0.19</td> \n",
       "        <td id=\"T_a89059e4_7e23_11e9_b34e_001a7dda7113row10_col12\" class=\"data row10 col12\" >0.0079</td> \n",
       "        <td id=\"T_a89059e4_7e23_11e9_b34e_001a7dda7113row10_col13\" class=\"data row10 col13\" >-0.18</td> \n",
       "        <td id=\"T_a89059e4_7e23_11e9_b34e_001a7dda7113row10_col14\" class=\"data row10 col14\" >0.13</td> \n",
       "        <td id=\"T_a89059e4_7e23_11e9_b34e_001a7dda7113row10_col15\" class=\"data row10 col15\" >0.15</td> \n",
       "    </tr>    <tr> \n",
       "        <th id=\"T_a89059e4_7e23_11e9_b34e_001a7dda7113level0_row11\" class=\"row_heading level0 row11\" >PRES</th> \n",
       "        <td id=\"T_a89059e4_7e23_11e9_b34e_001a7dda7113row11_col0\" class=\"data row11 col0\" >-0.014</td> \n",
       "        <td id=\"T_a89059e4_7e23_11e9_b34e_001a7dda7113row11_col1\" class=\"data row11 col1\" >-0.0039</td> \n",
       "        <td id=\"T_a89059e4_7e23_11e9_b34e_001a7dda7113row11_col2\" class=\"data row11 col2\" >-0.061</td> \n",
       "        <td id=\"T_a89059e4_7e23_11e9_b34e_001a7dda7113row11_col3\" class=\"data row11 col3\" >0.0014</td> \n",
       "        <td id=\"T_a89059e4_7e23_11e9_b34e_001a7dda7113row11_col4\" class=\"data row11 col4\" >-0.021</td> \n",
       "        <td id=\"T_a89059e4_7e23_11e9_b34e_001a7dda7113row11_col5\" class=\"data row11 col5\" >0.56</td> \n",
       "        <td id=\"T_a89059e4_7e23_11e9_b34e_001a7dda7113row11_col6\" class=\"data row11 col6\" >0.3</td> \n",
       "        <td id=\"T_a89059e4_7e23_11e9_b34e_001a7dda7113row11_col7\" class=\"data row11 col7\" >0.37</td> \n",
       "        <td id=\"T_a89059e4_7e23_11e9_b34e_001a7dda7113row11_col8\" class=\"data row11 col8\" >0.34</td> \n",
       "        <td id=\"T_a89059e4_7e23_11e9_b34e_001a7dda7113row11_col9\" class=\"data row11 col9\" >-0.8</td> \n",
       "        <td id=\"T_a89059e4_7e23_11e9_b34e_001a7dda7113row11_col10\" class=\"data row11 col10\" >-0.19</td> \n",
       "        <td id=\"T_a89059e4_7e23_11e9_b34e_001a7dda7113row11_col11\" class=\"data row11 col11\" >1</td> \n",
       "        <td id=\"T_a89059e4_7e23_11e9_b34e_001a7dda7113row11_col12\" class=\"data row11 col12\" >-0.8</td> \n",
       "        <td id=\"T_a89059e4_7e23_11e9_b34e_001a7dda7113row11_col13\" class=\"data row11 col13\" >-0.095</td> \n",
       "        <td id=\"T_a89059e4_7e23_11e9_b34e_001a7dda7113row11_col14\" class=\"data row11 col14\" >-0.098</td> \n",
       "        <td id=\"T_a89059e4_7e23_11e9_b34e_001a7dda7113row11_col15\" class=\"data row11 col15\" >-0.1</td> \n",
       "    </tr>    <tr> \n",
       "        <th id=\"T_a89059e4_7e23_11e9_b34e_001a7dda7113level0_row12\" class=\"row_heading level0 row12\" >TEMP</th> \n",
       "        <td id=\"T_a89059e4_7e23_11e9_b34e_001a7dda7113row12_col0\" class=\"data row12 col0\" >0.086</td> \n",
       "        <td id=\"T_a89059e4_7e23_11e9_b34e_001a7dda7113row12_col1\" class=\"data row12 col1\" >0.055</td> \n",
       "        <td id=\"T_a89059e4_7e23_11e9_b34e_001a7dda7113row12_col2\" class=\"data row12 col2\" >0.19</td> \n",
       "        <td id=\"T_a89059e4_7e23_11e9_b34e_001a7dda7113row12_col3\" class=\"data row12 col3\" >0.022</td> \n",
       "        <td id=\"T_a89059e4_7e23_11e9_b34e_001a7dda7113row12_col4\" class=\"data row12 col4\" >0.1</td> \n",
       "        <td id=\"T_a89059e4_7e23_11e9_b34e_001a7dda7113row12_col5\" class=\"data row12 col5\" >-0.56</td> \n",
       "        <td id=\"T_a89059e4_7e23_11e9_b34e_001a7dda7113row12_col6\" class=\"data row12 col6\" >-0.32</td> \n",
       "        <td id=\"T_a89059e4_7e23_11e9_b34e_001a7dda7113row12_col7\" class=\"data row12 col7\" >-0.36</td> \n",
       "        <td id=\"T_a89059e4_7e23_11e9_b34e_001a7dda7113row12_col8\" class=\"data row12 col8\" >-0.36</td> \n",
       "        <td id=\"T_a89059e4_7e23_11e9_b34e_001a7dda7113row12_col9\" class=\"data row12 col9\" >0.91</td> \n",
       "        <td id=\"T_a89059e4_7e23_11e9_b34e_001a7dda7113row12_col10\" class=\"data row12 col10\" >0.0079</td> \n",
       "        <td id=\"T_a89059e4_7e23_11e9_b34e_001a7dda7113row12_col11\" class=\"data row12 col11\" >-0.8</td> \n",
       "        <td id=\"T_a89059e4_7e23_11e9_b34e_001a7dda7113row12_col12\" class=\"data row12 col12\" >1</td> \n",
       "        <td id=\"T_a89059e4_7e23_11e9_b34e_001a7dda7113row12_col13\" class=\"data row12 col13\" >0.085</td> \n",
       "        <td id=\"T_a89059e4_7e23_11e9_b34e_001a7dda7113row12_col14\" class=\"data row12 col14\" >0.052</td> \n",
       "        <td id=\"T_a89059e4_7e23_11e9_b34e_001a7dda7113row12_col15\" class=\"data row12 col15\" >0.048</td> \n",
       "    </tr>    <tr> \n",
       "        <th id=\"T_a89059e4_7e23_11e9_b34e_001a7dda7113level0_row13\" class=\"row_heading level0 row13\" >Iws</th> \n",
       "        <td id=\"T_a89059e4_7e23_11e9_b34e_001a7dda7113row13_col0\" class=\"data row13 col0\" >0.062</td> \n",
       "        <td id=\"T_a89059e4_7e23_11e9_b34e_001a7dda7113row13_col1\" class=\"data row13 col1\" >0.067</td> \n",
       "        <td id=\"T_a89059e4_7e23_11e9_b34e_001a7dda7113row13_col2\" class=\"data row13 col2\" >-0.025</td> \n",
       "        <td id=\"T_a89059e4_7e23_11e9_b34e_001a7dda7113row13_col3\" class=\"data row13 col3\" >0.012</td> \n",
       "        <td id=\"T_a89059e4_7e23_11e9_b34e_001a7dda7113row13_col4\" class=\"data row13 col4\" >0.068</td> \n",
       "        <td id=\"T_a89059e4_7e23_11e9_b34e_001a7dda7113row13_col5\" class=\"data row13 col5\" >-0.14</td> \n",
       "        <td id=\"T_a89059e4_7e23_11e9_b34e_001a7dda7113row13_col6\" class=\"data row13 col6\" >-0.06</td> \n",
       "        <td id=\"T_a89059e4_7e23_11e9_b34e_001a7dda7113row13_col7\" class=\"data row13 col7\" >-0.078</td> \n",
       "        <td id=\"T_a89059e4_7e23_11e9_b34e_001a7dda7113row13_col8\" class=\"data row13 col8\" >-0.073</td> \n",
       "        <td id=\"T_a89059e4_7e23_11e9_b34e_001a7dda7113row13_col9\" class=\"data row13 col9\" >0.0033</td> \n",
       "        <td id=\"T_a89059e4_7e23_11e9_b34e_001a7dda7113row13_col10\" class=\"data row13 col10\" >-0.18</td> \n",
       "        <td id=\"T_a89059e4_7e23_11e9_b34e_001a7dda7113row13_col11\" class=\"data row13 col11\" >-0.095</td> \n",
       "        <td id=\"T_a89059e4_7e23_11e9_b34e_001a7dda7113row13_col12\" class=\"data row13 col12\" >0.085</td> \n",
       "        <td id=\"T_a89059e4_7e23_11e9_b34e_001a7dda7113row13_col13\" class=\"data row13 col13\" >1</td> \n",
       "        <td id=\"T_a89059e4_7e23_11e9_b34e_001a7dda7113row13_col14\" class=\"data row13 col14\" >-0.014</td> \n",
       "        <td id=\"T_a89059e4_7e23_11e9_b34e_001a7dda7113row13_col15\" class=\"data row13 col15\" >-0.013</td> \n",
       "    </tr>    <tr> \n",
       "        <th id=\"T_a89059e4_7e23_11e9_b34e_001a7dda7113level0_row14\" class=\"row_heading level0 row14\" >precipitation</th> \n",
       "        <td id=\"T_a89059e4_7e23_11e9_b34e_001a7dda7113row14_col0\" class=\"data row14 col0\" >-0.045</td> \n",
       "        <td id=\"T_a89059e4_7e23_11e9_b34e_001a7dda7113row14_col1\" class=\"data row14 col1\" >-0.047</td> \n",
       "        <td id=\"T_a89059e4_7e23_11e9_b34e_001a7dda7113row14_col2\" class=\"data row14 col2\" >0.016</td> \n",
       "        <td id=\"T_a89059e4_7e23_11e9_b34e_001a7dda7113row14_col3\" class=\"data row14 col3\" >-0.0076</td> \n",
       "        <td id=\"T_a89059e4_7e23_11e9_b34e_001a7dda7113row14_col4\" class=\"data row14 col4\" >-0.003</td> \n",
       "        <td id=\"T_a89059e4_7e23_11e9_b34e_001a7dda7113row14_col5\" class=\"data row14 col5\" >-0.031</td> \n",
       "        <td id=\"T_a89059e4_7e23_11e9_b34e_001a7dda7113row14_col6\" class=\"data row14 col6\" >-0.033</td> \n",
       "        <td id=\"T_a89059e4_7e23_11e9_b34e_001a7dda7113row14_col7\" class=\"data row14 col7\" >-0.036</td> \n",
       "        <td id=\"T_a89059e4_7e23_11e9_b34e_001a7dda7113row14_col8\" class=\"data row14 col8\" >-0.041</td> \n",
       "        <td id=\"T_a89059e4_7e23_11e9_b34e_001a7dda7113row14_col9\" class=\"data row14 col9\" >0.098</td> \n",
       "        <td id=\"T_a89059e4_7e23_11e9_b34e_001a7dda7113row14_col10\" class=\"data row14 col10\" >0.13</td> \n",
       "        <td id=\"T_a89059e4_7e23_11e9_b34e_001a7dda7113row14_col11\" class=\"data row14 col11\" >-0.098</td> \n",
       "        <td id=\"T_a89059e4_7e23_11e9_b34e_001a7dda7113row14_col12\" class=\"data row14 col12\" >0.052</td> \n",
       "        <td id=\"T_a89059e4_7e23_11e9_b34e_001a7dda7113row14_col13\" class=\"data row14 col13\" >-0.014</td> \n",
       "        <td id=\"T_a89059e4_7e23_11e9_b34e_001a7dda7113row14_col14\" class=\"data row14 col14\" >1</td> \n",
       "        <td id=\"T_a89059e4_7e23_11e9_b34e_001a7dda7113row14_col15\" class=\"data row14 col15\" >0.46</td> \n",
       "    </tr>    <tr> \n",
       "        <th id=\"T_a89059e4_7e23_11e9_b34e_001a7dda7113level0_row15\" class=\"row_heading level0 row15\" >Iprec</th> \n",
       "        <td id=\"T_a89059e4_7e23_11e9_b34e_001a7dda7113row15_col0\" class=\"data row15 col0\" >-0.065</td> \n",
       "        <td id=\"T_a89059e4_7e23_11e9_b34e_001a7dda7113row15_col1\" class=\"data row15 col1\" >-0.068</td> \n",
       "        <td id=\"T_a89059e4_7e23_11e9_b34e_001a7dda7113row15_col2\" class=\"data row15 col2\" >0.024</td> \n",
       "        <td id=\"T_a89059e4_7e23_11e9_b34e_001a7dda7113row15_col3\" class=\"data row15 col3\" >-0.013</td> \n",
       "        <td id=\"T_a89059e4_7e23_11e9_b34e_001a7dda7113row15_col4\" class=\"data row15 col4\" >-0.0045</td> \n",
       "        <td id=\"T_a89059e4_7e23_11e9_b34e_001a7dda7113row15_col5\" class=\"data row15 col5\" >-0.029</td> \n",
       "        <td id=\"T_a89059e4_7e23_11e9_b34e_001a7dda7113row15_col6\" class=\"data row15 col6\" >-0.05</td> \n",
       "        <td id=\"T_a89059e4_7e23_11e9_b34e_001a7dda7113row15_col7\" class=\"data row15 col7\" >-0.064</td> \n",
       "        <td id=\"T_a89059e4_7e23_11e9_b34e_001a7dda7113row15_col8\" class=\"data row15 col8\" >-0.059</td> \n",
       "        <td id=\"T_a89059e4_7e23_11e9_b34e_001a7dda7113row15_col9\" class=\"data row15 col9\" >0.1</td> \n",
       "        <td id=\"T_a89059e4_7e23_11e9_b34e_001a7dda7113row15_col10\" class=\"data row15 col10\" >0.15</td> \n",
       "        <td id=\"T_a89059e4_7e23_11e9_b34e_001a7dda7113row15_col11\" class=\"data row15 col11\" >-0.1</td> \n",
       "        <td id=\"T_a89059e4_7e23_11e9_b34e_001a7dda7113row15_col12\" class=\"data row15 col12\" >0.048</td> \n",
       "        <td id=\"T_a89059e4_7e23_11e9_b34e_001a7dda7113row15_col13\" class=\"data row15 col13\" >-0.013</td> \n",
       "        <td id=\"T_a89059e4_7e23_11e9_b34e_001a7dda7113row15_col14\" class=\"data row15 col14\" >0.46</td> \n",
       "        <td id=\"T_a89059e4_7e23_11e9_b34e_001a7dda7113row15_col15\" class=\"data row15 col15\" >1</td> \n",
       "    </tr></tbody> \n",
       "</table> "
      ],
      "text/plain": [
       "<pandas.io.formats.style.Styler at 0x20034263860>"
      ]
     },
     "execution_count": 50,
     "metadata": {},
     "output_type": "execute_result"
    }
   ],
   "source": [
    "import seaborn as sns\n",
    "cmap = cmap=sns.diverging_palette(5, 250, as_cmap=True)\n",
    "\n",
    "def magnify():\n",
    "    return [dict(selector=\"th\",\n",
    "                 props=[(\"font-size\", \"7pt\")]),\n",
    "            dict(selector=\"td\",\n",
    "                 props=[('padding', \"0em 0em\")]),\n",
    "            dict(selector=\"th:hover\",\n",
    "                 props=[(\"font-size\", \"12pt\")]),\n",
    "            dict(selector=\"tr:hover td:hover\",\n",
    "                 props=[('max-width', '200px'),\n",
    "                        ('font-size', '12pt')])\n",
    "]\n",
    "\n",
    "corr = data.corr()\n",
    "\n",
    "corr.style.background_gradient(cmap, axis=1)\\\n",
    "    .set_properties(**{'max-width': '80px', 'font-size': '10pt'})\\\n",
    "    .set_caption(\"Hover to magify\")\\\n",
    "    .set_precision(2)\\\n",
    "    .set_table_styles(magnify())"
   ]
  },
  {
   "cell_type": "markdown",
   "metadata": {},
   "source": [
    "Yeah they have a relationship. So, let's see how many missing values I have in total for all these (DEWP HUMI PRES TEMP) features"
   ]
  },
  {
   "cell_type": "code",
   "execution_count": 51,
   "metadata": {},
   "outputs": [
    {
     "name": "stdout",
     "output_type": "stream",
     "text": [
      "5000  /  52584\n",
      "10000  /  52584\n",
      "15000  /  52584\n",
      "20000  /  52584\n",
      "25000  /  52584\n",
      "30000  /  52584\n",
      "35000  /  52584\n",
      "40000  /  52584\n",
      "45000  /  52584\n",
      "50000  /  52584\n"
     ]
    }
   ],
   "source": [
    "dhpt_cols = ['DEWP', 'HUMI', 'PRES', 'TEMP']\n",
    "any_nan_dhpt_rows_indexes = []\n",
    "\n",
    "for idx, (index, row) in enumerate(data.iterrows()):\n",
    "    if row[dhpt_cols].isnull().any(): #.any()\n",
    "        any_nan_dhpt_rows_indexes.append(index)\n",
    "    \n",
    "    if (idx + 1) % 5000 == 0:\n",
    "        print(idx + 1, ' / ', n_rows)"
   ]
  },
  {
   "cell_type": "code",
   "execution_count": 52,
   "metadata": {},
   "outputs": [
    {
     "name": "stdout",
     "output_type": "stream",
     "text": [
      "Number of any of DEWP HUMI PRES TEMP NaN rows 692\n"
     ]
    }
   ],
   "source": [
    "print('Number of any of DEWP HUMI PRES TEMP NaN rows', len(any_nan_dhpt_rows_indexes))"
   ]
  },
  {
   "cell_type": "markdown",
   "metadata": {},
   "source": [
    "**cbwd**"
   ]
  },
  {
   "cell_type": "markdown",
   "metadata": {},
   "source": [
    "Let's take a look at cbwd"
   ]
  },
  {
   "cell_type": "code",
   "execution_count": 53,
   "metadata": {},
   "outputs": [
    {
     "name": "stdout",
     "output_type": "stream",
     "text": [
      "5000  /  52584\n",
      "10000  /  52584\n",
      "15000  /  52584\n",
      "20000  /  52584\n",
      "25000  /  52584\n",
      "30000  /  52584\n",
      "35000  /  52584\n",
      "40000  /  52584\n",
      "45000  /  52584\n",
      "50000  /  52584\n"
     ]
    }
   ],
   "source": [
    "cbwd_rows_indexes = []\n",
    "\n",
    "for idx, (index, row) in enumerate(data.iterrows()):\n",
    "    if pd.isnull(row['cbwd']):\n",
    "        cbwd_rows_indexes.append(index)\n",
    "    \n",
    "    if (idx + 1) % 5000 == 0:\n",
    "        print(idx + 1, ' / ', n_rows)"
   ]
  },
  {
   "cell_type": "code",
   "execution_count": 54,
   "metadata": {},
   "outputs": [
    {
     "name": "stdout",
     "output_type": "stream",
     "text": [
      "Number of cbwd NaN rows 692\n"
     ]
    }
   ],
   "source": [
    "print('Number of cbwd NaN rows', len(cbwd_rows_indexes))"
   ]
  },
  {
   "cell_type": "markdown",
   "metadata": {},
   "source": [
    "**Iws**"
   ]
  },
  {
   "cell_type": "markdown",
   "metadata": {},
   "source": [
    "Let's take a look at Iws"
   ]
  },
  {
   "cell_type": "code",
   "execution_count": 55,
   "metadata": {},
   "outputs": [
    {
     "name": "stdout",
     "output_type": "stream",
     "text": [
      "5000  /  52584\n",
      "10000  /  52584\n",
      "15000  /  52584\n",
      "20000  /  52584\n",
      "25000  /  52584\n",
      "30000  /  52584\n",
      "35000  /  52584\n",
      "40000  /  52584\n",
      "45000  /  52584\n",
      "50000  /  52584\n"
     ]
    }
   ],
   "source": [
    "Iws_rows_indexes = []\n",
    "\n",
    "for idx, (index, row) in enumerate(data.iterrows()):\n",
    "    if pd.isnull(row['Iws']):\n",
    "        Iws_rows_indexes.append(index)\n",
    "    \n",
    "    if (idx + 1) % 5000 == 0:\n",
    "        print(idx + 1, ' / ', n_rows)"
   ]
  },
  {
   "cell_type": "code",
   "execution_count": 56,
   "metadata": {},
   "outputs": [
    {
     "name": "stdout",
     "output_type": "stream",
     "text": [
      "Number of Iws NaN rows 692\n"
     ]
    }
   ],
   "source": [
    "print('Number of Iws NaN rows', len(Iws_rows_indexes))"
   ]
  },
  {
   "cell_type": "markdown",
   "metadata": {},
   "source": [
    "**precipitation**"
   ]
  },
  {
   "cell_type": "code",
   "execution_count": 57,
   "metadata": {},
   "outputs": [
    {
     "name": "stdout",
     "output_type": "stream",
     "text": [
      "5000  /  52584\n",
      "10000  /  52584\n",
      "15000  /  52584\n",
      "20000  /  52584\n",
      "25000  /  52584\n",
      "30000  /  52584\n",
      "35000  /  52584\n",
      "40000  /  52584\n",
      "45000  /  52584\n",
      "50000  /  52584\n"
     ]
    }
   ],
   "source": [
    "precipitation_rows_indexes = []\n",
    "\n",
    "for idx, (index, row) in enumerate(data.iterrows()):\n",
    "    if pd.isnull(row['precipitation']):\n",
    "        precipitation_rows_indexes.append(index)\n",
    "    \n",
    "    if (idx + 1) % 5000 == 0:\n",
    "        print(idx + 1, ' / ', n_rows)"
   ]
  },
  {
   "cell_type": "code",
   "execution_count": 58,
   "metadata": {},
   "outputs": [
    {
     "name": "stdout",
     "output_type": "stream",
     "text": [
      "Number of precipitation NaN rows 12763\n"
     ]
    }
   ],
   "source": [
    "print('Number of precipitation NaN rows', len(precipitation_rows_indexes))"
   ]
  },
  {
   "cell_type": "markdown",
   "metadata": {},
   "source": [
    "**Iprec**"
   ]
  },
  {
   "cell_type": "code",
   "execution_count": 59,
   "metadata": {},
   "outputs": [
    {
     "name": "stdout",
     "output_type": "stream",
     "text": [
      "5000  /  52584\n",
      "10000  /  52584\n",
      "15000  /  52584\n",
      "20000  /  52584\n",
      "25000  /  52584\n",
      "30000  /  52584\n",
      "35000  /  52584\n",
      "40000  /  52584\n",
      "45000  /  52584\n",
      "50000  /  52584\n"
     ]
    }
   ],
   "source": [
    "Iprec_rows_indexes = []\n",
    "\n",
    "for idx, (index, row) in enumerate(data.iterrows()):\n",
    "    if pd.isnull(row['Iprec']):\n",
    "        Iprec_rows_indexes.append(index)\n",
    "    \n",
    "    if (idx + 1) % 5000 == 0:\n",
    "        print(idx + 1, ' / ', n_rows)"
   ]
  },
  {
   "cell_type": "code",
   "execution_count": 60,
   "metadata": {},
   "outputs": [
    {
     "name": "stdout",
     "output_type": "stream",
     "text": [
      "Number of Iprec NaN rows 12763\n"
     ]
    }
   ],
   "source": [
    "print('Number of Iprec NaN rows', len(Iprec_rows_indexes))"
   ]
  },
  {
   "cell_type": "markdown",
   "metadata": {},
   "source": [
    "**Section conclusion:** We have analyzed NaN rows in our dataframe and found indexes of that rows."
   ]
  },
  {
   "cell_type": "markdown",
   "metadata": {},
   "source": [
    "### 2. Data Preparartion"
   ]
  },
  {
   "cell_type": "markdown",
   "metadata": {},
   "source": [
    "So, I will remove rows feature by feature and will keep checking NaN values"
   ]
  },
  {
   "cell_type": "markdown",
   "metadata": {},
   "source": [
    "**Dealing with DEWP HUMI PRES TEMP NaN**\n",
    "\n",
    "So I will remove all rows where we have any of them NaN"
   ]
  },
  {
   "cell_type": "code",
   "execution_count": 6,
   "metadata": {
    "scrolled": true
   },
   "outputs": [
    {
     "name": "stdout",
     "output_type": "stream",
     "text": [
      "5000  /  52584\n",
      "10000  /  52584\n",
      "15000  /  52584\n",
      "20000  /  52584\n",
      "25000  /  52584\n",
      "30000  /  52584\n",
      "35000  /  52584\n",
      "40000  /  52584\n",
      "45000  /  52584\n",
      "50000  /  52584\n",
      "Done\n"
     ]
    }
   ],
   "source": [
    "(n_rows, n_cols) = data.shape\n",
    "dhpt_cols = ['DEWP', 'HUMI', 'PRES', 'TEMP']\n",
    "any_nan_dhpt_rows_indexes = []\n",
    "\n",
    "for idx, (index, row) in enumerate(data.iterrows()):\n",
    "    if row[dhpt_cols].isnull().any(): #.any()\n",
    "        any_nan_dhpt_rows_indexes.append(index)\n",
    "    if (idx + 1) % 5000 == 0:\n",
    "        print(idx + 1, ' / ', n_rows)       \n",
    "print('Done')"
   ]
  },
  {
   "cell_type": "code",
   "execution_count": 7,
   "metadata": {},
   "outputs": [],
   "source": [
    "data = data.drop(any_nan_dhpt_rows_indexes)"
   ]
  },
  {
   "cell_type": "code",
   "execution_count": 8,
   "metadata": {},
   "outputs": [
    {
     "name": "stdout",
     "output_type": "stream",
     "text": [
      "PM_Taiyuanjie\n",
      "PM_US Post\n",
      "PM_Xiaoheyan\n",
      "precipitation\n",
      "Iprec\n"
     ]
    }
   ],
   "source": [
    "for col in data.columns:\n",
    "    if data[col].isnull().any():\n",
    "        print(col)"
   ]
  },
  {
   "cell_type": "markdown",
   "metadata": {},
   "source": [
    "Oh, cbwd and Iws NaN are gone as well"
   ]
  },
  {
   "cell_type": "code",
   "execution_count": 9,
   "metadata": {},
   "outputs": [
    {
     "data": {
      "text/plain": [
       "(51892, 17)"
      ]
     },
     "execution_count": 9,
     "metadata": {},
     "output_type": "execute_result"
    }
   ],
   "source": [
    "data.shape"
   ]
  },
  {
   "cell_type": "markdown",
   "metadata": {},
   "source": [
    "#### Dealing with precipitation and Iprec NaN"
   ]
  },
  {
   "cell_type": "code",
   "execution_count": 10,
   "metadata": {},
   "outputs": [
    {
     "data": {
      "text/plain": [
       "count    39597.000000\n",
       "mean         0.083610\n",
       "std          0.718312\n",
       "min          0.000000\n",
       "25%          0.000000\n",
       "50%          0.000000\n",
       "75%          0.000000\n",
       "max         33.100000\n",
       "Name: precipitation, dtype: float64"
      ]
     },
     "execution_count": 10,
     "metadata": {},
     "output_type": "execute_result"
    }
   ],
   "source": [
    "data['precipitation'].describe()"
   ]
  },
  {
   "cell_type": "markdown",
   "metadata": {},
   "source": [
    "I decided to use either mean or median to fill Precipitation NaNs "
   ]
  },
  {
   "cell_type": "code",
   "execution_count": 11,
   "metadata": {},
   "outputs": [
    {
     "data": {
      "text/plain": [
       "0.0"
      ]
     },
     "execution_count": 11,
     "metadata": {},
     "output_type": "execute_result"
    }
   ],
   "source": [
    "data['precipitation'].median()"
   ]
  },
  {
   "cell_type": "markdown",
   "metadata": {},
   "source": [
    "mean = 0.08\n",
    "\n",
    "median = 0"
   ]
  },
  {
   "cell_type": "markdown",
   "metadata": {},
   "source": [
    "Let's see how many of them is 0 and nonzero values"
   ]
  },
  {
   "cell_type": "code",
   "execution_count": 12,
   "metadata": {},
   "outputs": [
    {
     "name": "stdout",
     "output_type": "stream",
     "text": [
      "5000  /  52584\n",
      "10000  /  52584\n",
      "15000  /  52584\n",
      "20000  /  52584\n",
      "25000  /  52584\n",
      "30000  /  52584\n",
      "35000  /  52584\n",
      "40000  /  52584\n",
      "45000  /  52584\n",
      "50000  /  52584\n"
     ]
    }
   ],
   "source": [
    "zero_v, non_zero_v = 0, 0\n",
    "for idx, (index, row) in enumerate(data.iterrows()):\n",
    "    if not pd.isnull(row['precipitation']):\n",
    "        if row['precipitation'] == 0:\n",
    "            zero_v += 1\n",
    "        else:\n",
    "            non_zero_v += 1\n",
    "    \n",
    "    if (idx + 1) % 5000 == 0:\n",
    "        print(idx + 1, ' / ', n_rows)"
   ]
  },
  {
   "cell_type": "code",
   "execution_count": 13,
   "metadata": {},
   "outputs": [
    {
     "name": "stdout",
     "output_type": "stream",
     "text": [
      "Number of Zero values 37244 Number of Non Zero values 2353 Prop 0.06317796155085383\n"
     ]
    }
   ],
   "source": [
    "print('Number of Zero values', zero_v, 'Number of Non Zero values', non_zero_v, 'Prop', non_zero_v/zero_v)"
   ]
  },
  {
   "cell_type": "markdown",
   "metadata": {},
   "source": [
    "Only 6% are non zero value. So I will use median = 0 to fill NaN"
   ]
  },
  {
   "cell_type": "code",
   "execution_count": 14,
   "metadata": {},
   "outputs": [
    {
     "name": "stdout",
     "output_type": "stream",
     "text": [
      "5000  /  52584\n",
      "10000  /  52584\n",
      "15000  /  52584\n",
      "20000  /  52584\n",
      "25000  /  52584\n",
      "30000  /  52584\n",
      "35000  /  52584\n",
      "40000  /  52584\n",
      "45000  /  52584\n",
      "50000  /  52584\n"
     ]
    }
   ],
   "source": [
    "precipitation_rows_indexes = []\n",
    "\n",
    "for idx, (index, row) in enumerate(data.iterrows()):\n",
    "    if pd.isnull(row['precipitation']):\n",
    "        precipitation_rows_indexes.append(index)\n",
    "    \n",
    "    if (idx + 1) % 5000 == 0:\n",
    "        print(idx + 1, ' / ', n_rows)"
   ]
  },
  {
   "cell_type": "code",
   "execution_count": 15,
   "metadata": {},
   "outputs": [
    {
     "name": "stderr",
     "output_type": "stream",
     "text": [
      "C:\\Users\\Aziz\\Anaconda3\\lib\\site-packages\\ipykernel_launcher.py:3: SettingWithCopyWarning: \n",
      "A value is trying to be set on a copy of a slice from a DataFrame\n",
      "\n",
      "See the caveats in the documentation: http://pandas.pydata.org/pandas-docs/stable/indexing.html#indexing-view-versus-copy\n",
      "  This is separate from the ipykernel package so we can avoid doing imports until\n"
     ]
    }
   ],
   "source": [
    "for nan_index in precipitation_rows_indexes:\n",
    "    try:\n",
    "        data['precipitation'][nan_index] = 0\n",
    "    except:\n",
    "        print('Index not available now', nan_index)"
   ]
  },
  {
   "cell_type": "code",
   "execution_count": 16,
   "metadata": {},
   "outputs": [
    {
     "name": "stdout",
     "output_type": "stream",
     "text": [
      "PM_Taiyuanjie\n",
      "PM_US Post\n",
      "PM_Xiaoheyan\n",
      "Iprec\n"
     ]
    }
   ],
   "source": [
    "for col in data.columns:\n",
    "    if data[col].isnull().any():\n",
    "        print(col)"
   ]
  },
  {
   "cell_type": "markdown",
   "metadata": {},
   "source": [
    "Now, time to Iprec"
   ]
  },
  {
   "cell_type": "code",
   "execution_count": 17,
   "metadata": {},
   "outputs": [
    {
     "data": {
      "text/plain": [
       "count    39597.000000\n",
       "mean         0.495765\n",
       "std          4.363589\n",
       "min          0.000000\n",
       "25%          0.000000\n",
       "50%          0.000000\n",
       "75%          0.000000\n",
       "max        120.000000\n",
       "Name: Iprec, dtype: float64"
      ]
     },
     "execution_count": 17,
     "metadata": {},
     "output_type": "execute_result"
    }
   ],
   "source": [
    "data['Iprec'].describe()"
   ]
  },
  {
   "cell_type": "code",
   "execution_count": 18,
   "metadata": {},
   "outputs": [
    {
     "data": {
      "text/plain": [
       "0.0"
      ]
     },
     "execution_count": 18,
     "metadata": {},
     "output_type": "execute_result"
    }
   ],
   "source": [
    "data['Iprec'].median()"
   ]
  },
  {
   "cell_type": "code",
   "execution_count": 19,
   "metadata": {},
   "outputs": [
    {
     "name": "stdout",
     "output_type": "stream",
     "text": [
      "5000  /  52584\n",
      "10000  /  52584\n",
      "15000  /  52584\n",
      "20000  /  52584\n",
      "25000  /  52584\n",
      "30000  /  52584\n",
      "35000  /  52584\n",
      "40000  /  52584\n",
      "45000  /  52584\n",
      "50000  /  52584\n"
     ]
    }
   ],
   "source": [
    "zero_v, non_zero_v = 0, 0\n",
    "for idx, (index, row) in enumerate(data.iterrows()):\n",
    "    if not pd.isnull(row['Iprec']):\n",
    "        if row['Iprec'] == 0:\n",
    "            zero_v += 1\n",
    "        else:\n",
    "            non_zero_v += 1\n",
    "    \n",
    "    if (idx + 1) % 5000 == 0:\n",
    "        print(idx + 1, ' / ', n_rows)"
   ]
  },
  {
   "cell_type": "code",
   "execution_count": 20,
   "metadata": {},
   "outputs": [
    {
     "name": "stdout",
     "output_type": "stream",
     "text": [
      "Number of Zero values 37244 Number of Non Zero values 2353 Prop 0.06317796155085383\n"
     ]
    }
   ],
   "source": [
    "print('Number of Zero values', zero_v, 'Number of Non Zero values', non_zero_v, 'Prop', non_zero_v/zero_v)"
   ]
  },
  {
   "cell_type": "markdown",
   "metadata": {},
   "source": [
    "I suess same goes here. I will set median = 0 for Nan values"
   ]
  },
  {
   "cell_type": "code",
   "execution_count": 21,
   "metadata": {},
   "outputs": [
    {
     "name": "stdout",
     "output_type": "stream",
     "text": [
      "5000  /  52584\n",
      "10000  /  52584\n",
      "15000  /  52584\n",
      "20000  /  52584\n",
      "25000  /  52584\n",
      "30000  /  52584\n",
      "35000  /  52584\n",
      "40000  /  52584\n",
      "45000  /  52584\n",
      "50000  /  52584\n"
     ]
    }
   ],
   "source": [
    "Iprec_rows_indexes = []\n",
    "\n",
    "for idx, (index, row) in enumerate(data.iterrows()):\n",
    "    if pd.isnull(row['Iprec']):\n",
    "        Iprec_rows_indexes.append(index)\n",
    "    \n",
    "    if (idx + 1) % 5000 == 0:\n",
    "        print(idx + 1, ' / ', n_rows)"
   ]
  },
  {
   "cell_type": "code",
   "execution_count": 22,
   "metadata": {},
   "outputs": [
    {
     "name": "stderr",
     "output_type": "stream",
     "text": [
      "C:\\Users\\Aziz\\Anaconda3\\lib\\site-packages\\ipykernel_launcher.py:3: SettingWithCopyWarning: \n",
      "A value is trying to be set on a copy of a slice from a DataFrame\n",
      "\n",
      "See the caveats in the documentation: http://pandas.pydata.org/pandas-docs/stable/indexing.html#indexing-view-versus-copy\n",
      "  This is separate from the ipykernel package so we can avoid doing imports until\n"
     ]
    }
   ],
   "source": [
    "for nan_index in Iprec_rows_indexes:\n",
    "    try:\n",
    "        data['Iprec'][nan_index] = 0\n",
    "    except:\n",
    "        print('Index not available now', nan_index)"
   ]
  },
  {
   "cell_type": "code",
   "execution_count": 23,
   "metadata": {},
   "outputs": [
    {
     "name": "stdout",
     "output_type": "stream",
     "text": [
      "PM_Taiyuanjie\n",
      "PM_US Post\n",
      "PM_Xiaoheyan\n"
     ]
    }
   ],
   "source": [
    "for col in data.columns:\n",
    "    if data[col].isnull().any():\n",
    "        print(col)"
   ]
  },
  {
   "cell_type": "markdown",
   "metadata": {},
   "source": [
    "#### Dealing with PM like NaN values"
   ]
  },
  {
   "cell_type": "code",
   "execution_count": 24,
   "metadata": {},
   "outputs": [],
   "source": [
    "def get_pm_columns(data_frame):\n",
    "    cols = list(data_frame.columns)\n",
    "    pm_cols = []\n",
    "    for col in cols:\n",
    "        if col.startswith('PM'):\n",
    "            pm_cols.append(col)\n",
    "    return pm_cols \n",
    "\n",
    "def get_main_features_columns(data_frame):\n",
    "    cols = list(data_frame.columns)\n",
    "    features_cols = []\n",
    "    for col in cols:\n",
    "        if not col.startswith('PM'):\n",
    "            features_cols.append(col)\n",
    "    return features_cols"
   ]
  },
  {
   "cell_type": "code",
   "execution_count": 25,
   "metadata": {},
   "outputs": [],
   "source": [
    "pm_cols = get_pm_columns(data)\n",
    "features_columns = get_main_features_columns(data)\n",
    "features_columns.append('PM')"
   ]
  },
  {
   "cell_type": "code",
   "execution_count": 26,
   "metadata": {
    "scrolled": true
   },
   "outputs": [
    {
     "data": {
      "text/plain": [
       "['No',\n",
       " 'year',\n",
       " 'month',\n",
       " 'day',\n",
       " 'hour',\n",
       " 'season',\n",
       " 'DEWP',\n",
       " 'HUMI',\n",
       " 'PRES',\n",
       " 'TEMP',\n",
       " 'cbwd',\n",
       " 'Iws',\n",
       " 'precipitation',\n",
       " 'Iprec',\n",
       " 'PM']"
      ]
     },
     "execution_count": 26,
     "metadata": {},
     "output_type": "execute_result"
    }
   ],
   "source": [
    "features_columns"
   ]
  },
  {
   "cell_type": "code",
   "execution_count": 33,
   "metadata": {},
   "outputs": [],
   "source": [
    "data = n_d.copy()"
   ]
  },
  {
   "cell_type": "code",
   "execution_count": 34,
   "metadata": {
    "scrolled": true
   },
   "outputs": [
    {
     "name": "stdout",
     "output_type": "stream",
     "text": [
      "1000\n",
      "2000\n",
      "3000\n",
      "4000\n",
      "5000\n",
      "6000\n",
      "7000\n",
      "8000\n",
      "9000\n",
      "10000\n",
      "11000\n",
      "12000\n",
      "13000\n",
      "14000\n",
      "15000\n",
      "16000\n",
      "17000\n",
      "18000\n",
      "19000\n",
      "20000\n",
      "21000\n",
      "22000\n",
      "23000\n",
      "24000\n",
      "25000\n"
     ]
    },
    {
     "name": "stderr",
     "output_type": "stream",
     "text": [
      "C:\\Users\\Aziz\\Anaconda3\\lib\\site-packages\\pandas\\core\\series.py:951: FutureWarning: \n",
      "Passing list-likes to .loc or [] with any missing label will raise\n",
      "KeyError in the future, you can use .reindex() as an alternative.\n",
      "\n",
      "See the documentation here:\n",
      "https://pandas.pydata.org/pandas-docs/stable/indexing.html#deprecate-loc-reindex-listlike\n",
      "  return self.loc[key]\n"
     ]
    },
    {
     "name": "stdout",
     "output_type": "stream",
     "text": [
      "26000\n",
      "27000\n",
      "28000\n",
      "29000\n",
      "30000\n",
      "31000\n",
      "32000\n",
      "33000\n",
      "34000\n",
      "35000\n",
      "36000\n",
      "37000\n",
      "38000\n",
      "39000\n",
      "40000\n",
      "41000\n",
      "42000\n",
      "43000\n",
      "44000\n",
      "45000\n",
      "46000\n",
      "47000\n",
      "48000\n",
      "49000\n",
      "50000\n",
      "51000\n"
     ]
    }
   ],
   "source": [
    "no_index = 1\n",
    "new_data_rows_list = []\n",
    "for idx, (index, row) in enumerate(data.iterrows()):\n",
    "    for pm_col in pm_cols:\n",
    "        if not math.isnan(row[pm_col]):\n",
    "            temp_row = row[features_columns]\n",
    "            temp_row['PM'] = row[pm_col]\n",
    "            temp_row['No'] = no_index\n",
    "            no_index += 1\n",
    "            \n",
    "            new_data_rows_list.append(temp_row)\n",
    "\n",
    "    if idx % 1000 ==0 and idx != 0:\n",
    "        print(idx)\n"
   ]
  },
  {
   "cell_type": "code",
   "execution_count": 28,
   "metadata": {
    "collapsed": true
   },
   "outputs": [
    {
     "name": "stdout",
     "output_type": "stream",
     "text": [
      "1000\n",
      "2000\n",
      "3000\n",
      "4000\n",
      "5000\n",
      "6000\n",
      "7000\n",
      "8000\n",
      "9000\n",
      "10000\n",
      "11000\n",
      "12000\n",
      "13000\n",
      "14000\n",
      "15000\n",
      "16000\n",
      "17000\n",
      "18000\n",
      "19000\n",
      "20000\n",
      "21000\n",
      "22000\n",
      "23000\n",
      "24000\n",
      "25000\n"
     ]
    },
    {
     "name": "stderr",
     "output_type": "stream",
     "text": [
      "C:\\Users\\Aziz\\Anaconda3\\lib\\site-packages\\pandas\\core\\series.py:951: FutureWarning: \n",
      "Passing list-likes to .loc or [] with any missing label will raise\n",
      "KeyError in the future, you can use .reindex() as an alternative.\n",
      "\n",
      "See the documentation here:\n",
      "https://pandas.pydata.org/pandas-docs/stable/indexing.html#deprecate-loc-reindex-listlike\n",
      "  return self.loc[key]\n"
     ]
    },
    {
     "name": "stdout",
     "output_type": "stream",
     "text": [
      "26000\n",
      "27000\n",
      "28000\n",
      "29000\n",
      "30000\n",
      "31000\n",
      "32000\n",
      "33000\n",
      "34000\n",
      "35000\n",
      "36000\n",
      "37000\n",
      "38000\n",
      "39000\n",
      "40000\n",
      "41000\n",
      "42000\n",
      "43000\n",
      "44000\n",
      "45000\n",
      "46000\n",
      "47000\n",
      "48000\n",
      "49000\n",
      "50000\n",
      "51000\n"
     ]
    }
   ],
   "source": [
    "new_data_rows_list = []\n",
    "for idx, (index, row) in enumerate(data.iterrows()):\n",
    "    mn = row[pm_cols].mean()\n",
    "    if not math.isnan(mn):\n",
    "        temp_row = row[features_columns]\n",
    "        temp_row['PM'] = mn\n",
    "\n",
    "        new_data_rows_list.append(temp_row)\n",
    "\n",
    "    if idx % 1000 ==0 and idx != 0:\n",
    "        print(idx)"
   ]
  },
  {
   "cell_type": "code",
   "execution_count": 35,
   "metadata": {},
   "outputs": [],
   "source": [
    "new_data = pd.DataFrame(columns = features_columns)\n",
    "new_data = new_data.append(new_data_rows_list, ignore_index=True)"
   ]
  },
  {
   "cell_type": "code",
   "execution_count": 36,
   "metadata": {},
   "outputs": [],
   "source": [
    "file_path = os.path.join(PREP_MAIN_DIR_PATH, 'ShenyangPM_cleaned.csv')\n",
    "new_data.to_csv(file_path)"
   ]
  },
  {
   "cell_type": "code",
   "execution_count": 85,
   "metadata": {},
   "outputs": [
    {
     "data": {
      "text/html": [
       "<div>\n",
       "<style scoped>\n",
       "    .dataframe tbody tr th:only-of-type {\n",
       "        vertical-align: middle;\n",
       "    }\n",
       "\n",
       "    .dataframe tbody tr th {\n",
       "        vertical-align: top;\n",
       "    }\n",
       "\n",
       "    .dataframe thead th {\n",
       "        text-align: right;\n",
       "    }\n",
       "</style>\n",
       "<table border=\"1\" class=\"dataframe\">\n",
       "  <thead>\n",
       "    <tr style=\"text-align: right;\">\n",
       "      <th></th>\n",
       "      <th>DEWP</th>\n",
       "      <th>HUMI</th>\n",
       "      <th>PRES</th>\n",
       "      <th>TEMP</th>\n",
       "      <th>Iws</th>\n",
       "      <th>precipitation</th>\n",
       "      <th>Iprec</th>\n",
       "      <th>PM</th>\n",
       "    </tr>\n",
       "  </thead>\n",
       "  <tbody>\n",
       "    <tr>\n",
       "      <th>count</th>\n",
       "      <td>70686.000000</td>\n",
       "      <td>70686.000000</td>\n",
       "      <td>70686.000000</td>\n",
       "      <td>70686.000000</td>\n",
       "      <td>70686.000000</td>\n",
       "      <td>70686.000000</td>\n",
       "      <td>70686.000000</td>\n",
       "      <td>70686.000000</td>\n",
       "    </tr>\n",
       "    <tr>\n",
       "      <th>mean</th>\n",
       "      <td>1.116968</td>\n",
       "      <td>61.094666</td>\n",
       "      <td>1016.017076</td>\n",
       "      <td>9.305563</td>\n",
       "      <td>21.591277</td>\n",
       "      <td>0.057441</td>\n",
       "      <td>0.264532</td>\n",
       "      <td>77.477308</td>\n",
       "    </tr>\n",
       "    <tr>\n",
       "      <th>std</th>\n",
       "      <td>13.663864</td>\n",
       "      <td>22.205930</td>\n",
       "      <td>9.778864</td>\n",
       "      <td>13.452487</td>\n",
       "      <td>37.031162</td>\n",
       "      <td>0.588949</td>\n",
       "      <td>2.348122</td>\n",
       "      <td>76.309121</td>\n",
       "    </tr>\n",
       "    <tr>\n",
       "      <th>min</th>\n",
       "      <td>-32.000000</td>\n",
       "      <td>7.860000</td>\n",
       "      <td>988.000000</td>\n",
       "      <td>-27.000000</td>\n",
       "      <td>0.000000</td>\n",
       "      <td>0.000000</td>\n",
       "      <td>0.000000</td>\n",
       "      <td>1.000000</td>\n",
       "    </tr>\n",
       "    <tr>\n",
       "      <th>25%</th>\n",
       "      <td>-11.000000</td>\n",
       "      <td>43.680000</td>\n",
       "      <td>1008.000000</td>\n",
       "      <td>-2.000000</td>\n",
       "      <td>3.000000</td>\n",
       "      <td>0.000000</td>\n",
       "      <td>0.000000</td>\n",
       "      <td>30.000000</td>\n",
       "    </tr>\n",
       "    <tr>\n",
       "      <th>50%</th>\n",
       "      <td>1.000000</td>\n",
       "      <td>62.130000</td>\n",
       "      <td>1016.000000</td>\n",
       "      <td>11.000000</td>\n",
       "      <td>9.000000</td>\n",
       "      <td>0.000000</td>\n",
       "      <td>0.000000</td>\n",
       "      <td>56.000000</td>\n",
       "    </tr>\n",
       "    <tr>\n",
       "      <th>75%</th>\n",
       "      <td>14.000000</td>\n",
       "      <td>79.420000</td>\n",
       "      <td>1024.000000</td>\n",
       "      <td>21.000000</td>\n",
       "      <td>24.000000</td>\n",
       "      <td>0.000000</td>\n",
       "      <td>0.000000</td>\n",
       "      <td>98.000000</td>\n",
       "    </tr>\n",
       "    <tr>\n",
       "      <th>max</th>\n",
       "      <td>28.000000</td>\n",
       "      <td>100.000000</td>\n",
       "      <td>1042.000000</td>\n",
       "      <td>35.000000</td>\n",
       "      <td>465.000000</td>\n",
       "      <td>23.900000</td>\n",
       "      <td>67.200000</td>\n",
       "      <td>1528.000000</td>\n",
       "    </tr>\n",
       "  </tbody>\n",
       "</table>\n",
       "</div>"
      ],
      "text/plain": [
       "               DEWP          HUMI          PRES          TEMP           Iws  \\\n",
       "count  70686.000000  70686.000000  70686.000000  70686.000000  70686.000000   \n",
       "mean       1.116968     61.094666   1016.017076      9.305563     21.591277   \n",
       "std       13.663864     22.205930      9.778864     13.452487     37.031162   \n",
       "min      -32.000000      7.860000    988.000000    -27.000000      0.000000   \n",
       "25%      -11.000000     43.680000   1008.000000     -2.000000      3.000000   \n",
       "50%        1.000000     62.130000   1016.000000     11.000000      9.000000   \n",
       "75%       14.000000     79.420000   1024.000000     21.000000     24.000000   \n",
       "max       28.000000    100.000000   1042.000000     35.000000    465.000000   \n",
       "\n",
       "       precipitation         Iprec            PM  \n",
       "count   70686.000000  70686.000000  70686.000000  \n",
       "mean        0.057441      0.264532     77.477308  \n",
       "std         0.588949      2.348122     76.309121  \n",
       "min         0.000000      0.000000      1.000000  \n",
       "25%         0.000000      0.000000     30.000000  \n",
       "50%         0.000000      0.000000     56.000000  \n",
       "75%         0.000000      0.000000     98.000000  \n",
       "max        23.900000     67.200000   1528.000000  "
      ]
     },
     "execution_count": 85,
     "metadata": {},
     "output_type": "execute_result"
    }
   ],
   "source": [
    "new_data.describe()"
   ]
  },
  {
   "cell_type": "code",
   "execution_count": null,
   "metadata": {},
   "outputs": [],
   "source": []
  },
  {
   "cell_type": "code",
   "execution_count": null,
   "metadata": {},
   "outputs": [],
   "source": []
  },
  {
   "cell_type": "code",
   "execution_count": null,
   "metadata": {},
   "outputs": [],
   "source": []
  },
  {
   "cell_type": "code",
   "execution_count": null,
   "metadata": {},
   "outputs": [],
   "source": []
  },
  {
   "cell_type": "code",
   "execution_count": null,
   "metadata": {},
   "outputs": [],
   "source": []
  },
  {
   "cell_type": "code",
   "execution_count": null,
   "metadata": {},
   "outputs": [],
   "source": []
  },
  {
   "cell_type": "code",
   "execution_count": null,
   "metadata": {},
   "outputs": [],
   "source": []
  },
  {
   "cell_type": "code",
   "execution_count": null,
   "metadata": {},
   "outputs": [],
   "source": []
  },
  {
   "cell_type": "code",
   "execution_count": null,
   "metadata": {},
   "outputs": [],
   "source": []
  },
  {
   "cell_type": "code",
   "execution_count": null,
   "metadata": {},
   "outputs": [],
   "source": []
  },
  {
   "cell_type": "code",
   "execution_count": null,
   "metadata": {},
   "outputs": [],
   "source": []
  }
 ],
 "metadata": {
  "kernelspec": {
   "display_name": "Python 3",
   "language": "python",
   "name": "python3"
  },
  "language_info": {
   "codemirror_mode": {
    "name": "ipython",
    "version": 3
   },
   "file_extension": ".py",
   "mimetype": "text/x-python",
   "name": "python",
   "nbconvert_exporter": "python",
   "pygments_lexer": "ipython3",
   "version": "3.7.0"
  }
 },
 "nbformat": 4,
 "nbformat_minor": 2
}
